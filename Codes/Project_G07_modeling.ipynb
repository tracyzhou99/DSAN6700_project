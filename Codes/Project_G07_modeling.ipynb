{
  "cells": [
    {
      "cell_type": "markdown",
      "metadata": {
        "id": "DtQc80y_4XTz"
      },
      "source": [
        "# Project Step 2"
      ]
    },
    {
      "cell_type": "markdown",
      "metadata": {
        "id": "6PHoFx7C4XT1"
      },
      "source": [
        "#### Project Group 7 - Tianqi Zhou - tz232 - Yifei Wu - yw924 - Zixuan Li - zl438"
      ]
    },
    {
      "cell_type": "markdown",
      "metadata": {
        "id": "OsWLUage4XT1"
      },
      "source": [
        "# Initialization\n",
        "\n"
      ]
    },
    {
      "cell_type": "code",
      "execution_count": 9,
      "metadata": {
        "id": "cnle_0_h4XT1"
      },
      "outputs": [],
      "source": [
        "# import libraries required\n",
        "import random\n",
        "import pandas as pd\n",
        "from imblearn.over_sampling import SMOTE\n",
        "from sklearn.model_selection import train_test_split\n",
        "from sklearn.model_selection import cross_val_score, RepeatedKFold\n",
        "from sklearn.linear_model import LogisticRegression\n",
        "from sklearn.neighbors import KNeighborsClassifier\n",
        "from sklearn.tree import DecisionTreeClassifier\n",
        "from sklearn.svm import SVC\n",
        "from sklearn.naive_bayes import GaussianNB\n",
        "from sklearn.ensemble import GradientBoostingClassifier, BaggingClassifier, RandomForestClassifier\n",
        "from xgboost import XGBClassifier\n",
        "from sklearn.metrics import r2_score\n",
        "from sklearn.metrics import accuracy_score\n",
        "import plotly.express as px\n",
        "from sklearn.ensemble import StackingClassifier\n",
        "from sklearn.metrics import ConfusionMatrixDisplay\n",
        "import matplotlib.pyplot as plt\n",
        "from sklearn.metrics import confusion_matrix\n",
        "\n",
        "\n",
        "# set a random seed for the project\n",
        "random.seed(1024)"
      ]
    },
    {
      "cell_type": "markdown",
      "metadata": {
        "id": "-bczDqXB4XT2"
      },
      "source": [
        "## Load the dataset."
      ]
    },
    {
      "cell_type": "code",
      "execution_count": 10,
      "metadata": {
        "id": "bYfUpQhe4XT2"
      },
      "outputs": [],
      "source": [
        "# read the dataset\n",
        "g07 = pd.read_csv('../Data/Cleaned/data.csv',header=0)\n"
      ]
    },
    {
      "cell_type": "markdown",
      "metadata": {
        "id": "V0qsz-bE4XT5"
      },
      "source": [
        "## Split the dataset into the Training set and Test set. Since our target variable is imbalenced, we need to resample the training set using SMOTE."
      ]
    },
    {
      "cell_type": "code",
      "execution_count": 11,
      "metadata": {
        "colab": {
          "base_uri": "https://localhost:8080/"
        },
        "id": "zeMYvGwkM1uw",
        "outputId": "24b2fde0-d9d1-4585-ecde-771cc62f4ab1"
      },
      "outputs": [
        {
          "data": {
            "text/plain": [
              "(576, 38)"
            ]
          },
          "execution_count": 11,
          "metadata": {},
          "output_type": "execute_result"
        }
      ],
      "source": [
        "X = g07.drop(columns=['PCOS (Y/N)'])\n",
        "y = g07['PCOS (Y/N)']\n",
        "\n",
        "# split the training and testing set\n",
        "X_train, X_test, y_train, y_test = train_test_split(X, y, test_size=0.2, random_state=7)\n",
        "\n",
        "# resample the training set using smote\n",
        "smote = SMOTE(random_state=7)\n",
        "X_train_resampled, y_train_resampled = smote.fit_resample(X_train, y_train)\n",
        "X_train_resampled.shape"
      ]
    },
    {
      "cell_type": "code",
      "execution_count": 12,
      "metadata": {
        "colab": {
          "base_uri": "https://localhost:8080/",
          "height": 424
        },
        "id": "ZkfNGmJFmbvH",
        "outputId": "43853b61-e950-469f-a12c-d675d05015ab"
      },
      "outputs": [],
      "source": [
        "# save the training set and testing set into the repository\n",
        "X_train_df=pd.DataFrame(X_train)\n",
        "X_train_df.to_csv('../Data/Cleaned/X_train.csv', index=False)\n",
        "y_train_df=pd.DataFrame(y_train)\n",
        "y_train_df.to_csv('../Data/Cleaned/y_train.csv', index=False)\n",
        "X_train_resampled_df=pd.DataFrame(X_train_resampled)\n",
        "X_train_resampled_df.to_csv('../Data/Cleaned/X_train_resampled.csv', index=False)\n",
        "y_train_resampled_df=pd.DataFrame(y_train_resampled)\n",
        "y_train_resampled_df.to_csv('../Data/Cleaned/y_train_resampled.csv', index=False)\n",
        "X_test_df=pd.DataFrame(X_test)\n",
        "X_test_df.to_csv('../Data/Cleaned/X_test.csv', index=False)\n",
        "y_test_df=pd.DataFrame(y_test)\n",
        "y_test_df.to_csv('../Data/Cleaned/y_test.csv', index=False)"
      ]
    },
    {
      "cell_type": "markdown",
      "metadata": {},
      "source": [
        "## First, use the logistic regression as the baseline model and evaluate it's performance."
      ]
    },
    {
      "cell_type": "code",
      "execution_count": 61,
      "metadata": {},
      "outputs": [
        {
          "name": "stdout",
          "output_type": "stream",
          "text": [
            "Coefficients: [[-3.62383561e-02  7.86257451e-02 -4.08504467e-02 -1.24526116e-01\n",
            "   1.15464283e-01 -2.40875385e-01  6.51422444e-03  5.29017837e-01\n",
            "  -1.90706152e-01 -8.59567317e-03 -4.36351235e-01 -7.52710065e-01\n",
            "  -6.63137494e-05  1.84763108e-05 -6.87603000e-02  1.43551452e-02\n",
            "  -1.13747734e-02 -8.70163344e-02  4.56900009e-03  3.75931650e-02\n",
            "  -8.71398694e-04  4.57354783e-04 -4.18882098e-01  1.25116630e-03\n",
            "   5.62941643e-01  9.87216509e-01  1.13551640e+00 -1.76685396e-01\n",
            "   4.21466406e-01  1.00418692e+00 -2.67421455e-01 -1.81297136e-02\n",
            "  -4.12904758e-02  2.42768406e-01  3.73538362e-01  1.04733275e-02\n",
            "  -1.82571682e-02  6.75644656e-02]]\n",
            "Intercept: [-0.04628029]\n",
            "R2 Score: 0.5763888888888888\n",
            "Accuracy: 0.8940972222222222\n"
          ]
        }
      ],
      "source": [
        "# fit the baseline model\n",
        "model = LogisticRegression(max_iter=10000)\n",
        "model.fit(X_train_resampled, y_train_resampled)\n",
        "\n",
        "# show the model coefficients and intercept\n",
        "coefficients = model.coef_\n",
        "intercept = model.intercept_\n",
        "print(\"Coefficients:\", coefficients)\n",
        "print(\"Intercept:\", intercept)\n",
        "\n",
        "# calculate the R2 score and accuracy of the baseline model\n",
        "y_pred = model.predict(X_train_resampled)\n",
        "r2 = r2_score(y_train_resampled, y_pred)\n",
        "print(\"R2 Score:\", r2)\n",
        "accuracy = accuracy_score(y_train_resampled, y_pred)\n",
        "print(\"Accuracy:\", accuracy)\n"
      ]
    },
    {
      "cell_type": "markdown",
      "metadata": {
        "id": "5XtqMQfd4XT6"
      },
      "source": [
        "## Perform classification routine by using LogisticRegression(), KNeighborsClassifier(), DecisionTreeClassifier(), SVC(), GaussianNB(), RandomForestClassifier(), BaggingClassifier(), GradientBoostingClassifier(), XGboostclassifier. Output the accuracy box plot."
      ]
    },
    {
      "cell_type": "code",
      "execution_count": 62,
      "metadata": {
        "id": "57iVe3v_4XT6"
      },
      "outputs": [],
      "source": [
        "# define a function for base models we're going to train\n",
        "def base_models():\n",
        "  models = dict()\n",
        "  models[\"lg\"] = LogisticRegression(max_iter=10000)\n",
        "  models[\"KNN\"] = KNeighborsClassifier()\n",
        "  models[\"Tree\"] = DecisionTreeClassifier()\n",
        "  models[\"svc\"] = SVC()\n",
        "  models[\"NB\"] = GaussianNB()\n",
        "  models[\"Random Forest\"] = RandomForestClassifier()\n",
        "  models[\"Bagging\"] = BaggingClassifier()\n",
        "  models[\"GBM\"] = GradientBoostingClassifier()\n",
        "  models[\"XGB\"] = XGBClassifier()\n",
        "  return models\n",
        "\n",
        "# define a function to evaluate the list of models using cross validation\n",
        "def eval_models(model):\n",
        "  # perform ten fold cross validation\n",
        "  cv = RepeatedKFold(n_splits=5, n_repeats=3, random_state=1)\n",
        "  # use accuracy to evaluate the performance of our classification models\n",
        "  scores = cross_val_score(model, X_train_resampled, y_train_resampled, scoring='accuracy', cv=cv, n_jobs=-1,\n",
        "                            error_score='raise')\n",
        "  return scores"
      ]
    },
    {
      "cell_type": "code",
      "execution_count": 63,
      "metadata": {
        "colab": {
          "base_uri": "https://localhost:8080/",
          "height": 721
        },
        "id": "NHm9kAi-4XT7",
        "outputId": "ee9537b6-130f-48be-c281-28996152faaf"
      },
      "outputs": [
        {
          "name": "stdout",
          "output_type": "stream",
          "text": [
            ">lg 0.862 (0.027)\n",
            ">KNN 0.698 (0.037)\n",
            ">Tree 0.837 (0.037)\n",
            ">svc 0.478 (0.032)\n",
            ">NB 0.806 (0.050)\n",
            ">Random Forest 0.917 (0.021)\n",
            ">Bagging 0.879 (0.026)\n",
            ">GBM 0.897 (0.018)\n",
            ">XGB 0.907 (0.025)\n"
          ]
        },
        {
          "data": {
            "application/vnd.plotly.v1+json": {
              "config": {
                "plotlyServerURL": "https://plot.ly"
              },
              "data": [
                {
                  "alignmentgroup": "True",
                  "boxpoints": "all",
                  "hovertemplate": "Machine Learning Model=%{x}<br> Accuracy=%{y}<extra></extra>",
                  "legendgroup": "lg",
                  "marker": {
                    "color": "#636efa"
                  },
                  "name": "lg",
                  "notched": false,
                  "offsetgroup": "lg",
                  "orientation": "v",
                  "showlegend": true,
                  "type": "box",
                  "x": [
                    "lg",
                    "lg",
                    "lg",
                    "lg",
                    "lg",
                    "lg",
                    "lg",
                    "lg",
                    "lg",
                    "lg",
                    "lg",
                    "lg",
                    "lg",
                    "lg",
                    "lg"
                  ],
                  "x0": " ",
                  "xaxis": "x",
                  "y": [
                    0.8189655172413793,
                    0.8956521739130435,
                    0.8434782608695652,
                    0.9130434782608695,
                    0.8347826086956521,
                    0.8620689655172413,
                    0.8956521739130435,
                    0.8434782608695652,
                    0.8695652173913043,
                    0.8695652173913043,
                    0.8793103448275862,
                    0.8869565217391304,
                    0.8521739130434782,
                    0.8347826086956521,
                    0.8347826086956521
                  ],
                  "y0": " ",
                  "yaxis": "y"
                },
                {
                  "alignmentgroup": "True",
                  "boxpoints": "all",
                  "hovertemplate": "Machine Learning Model=%{x}<br> Accuracy=%{y}<extra></extra>",
                  "legendgroup": "KNN",
                  "marker": {
                    "color": "#EF553B"
                  },
                  "name": "KNN",
                  "notched": false,
                  "offsetgroup": "KNN",
                  "orientation": "v",
                  "showlegend": true,
                  "type": "box",
                  "x": [
                    "KNN",
                    "KNN",
                    "KNN",
                    "KNN",
                    "KNN",
                    "KNN",
                    "KNN",
                    "KNN",
                    "KNN",
                    "KNN",
                    "KNN",
                    "KNN",
                    "KNN",
                    "KNN",
                    "KNN"
                  ],
                  "x0": " ",
                  "xaxis": "x",
                  "y": [
                    0.7155172413793104,
                    0.6956521739130435,
                    0.7130434782608696,
                    0.6695652173913044,
                    0.6956521739130435,
                    0.7586206896551724,
                    0.6869565217391305,
                    0.7130434782608696,
                    0.6434782608695652,
                    0.6521739130434783,
                    0.7672413793103449,
                    0.6434782608695652,
                    0.6695652173913044,
                    0.7217391304347827,
                    0.7304347826086957
                  ],
                  "y0": " ",
                  "yaxis": "y"
                },
                {
                  "alignmentgroup": "True",
                  "boxpoints": "all",
                  "hovertemplate": "Machine Learning Model=%{x}<br> Accuracy=%{y}<extra></extra>",
                  "legendgroup": "Tree",
                  "marker": {
                    "color": "#00cc96"
                  },
                  "name": "Tree",
                  "notched": false,
                  "offsetgroup": "Tree",
                  "orientation": "v",
                  "showlegend": true,
                  "type": "box",
                  "x": [
                    "Tree",
                    "Tree",
                    "Tree",
                    "Tree",
                    "Tree",
                    "Tree",
                    "Tree",
                    "Tree",
                    "Tree",
                    "Tree",
                    "Tree",
                    "Tree",
                    "Tree",
                    "Tree",
                    "Tree"
                  ],
                  "x0": " ",
                  "xaxis": "x",
                  "y": [
                    0.8275862068965517,
                    0.8,
                    0.8173913043478261,
                    0.8782608695652174,
                    0.9217391304347826,
                    0.8362068965517241,
                    0.8173913043478261,
                    0.8608695652173913,
                    0.8173913043478261,
                    0.8521739130434782,
                    0.8017241379310345,
                    0.808695652173913,
                    0.8521739130434782,
                    0.7739130434782608,
                    0.8869565217391304
                  ],
                  "y0": " ",
                  "yaxis": "y"
                },
                {
                  "alignmentgroup": "True",
                  "boxpoints": "all",
                  "hovertemplate": "Machine Learning Model=%{x}<br> Accuracy=%{y}<extra></extra>",
                  "legendgroup": "svc",
                  "marker": {
                    "color": "#ab63fa"
                  },
                  "name": "svc",
                  "notched": false,
                  "offsetgroup": "svc",
                  "orientation": "v",
                  "showlegend": true,
                  "type": "box",
                  "x": [
                    "svc",
                    "svc",
                    "svc",
                    "svc",
                    "svc",
                    "svc",
                    "svc",
                    "svc",
                    "svc",
                    "svc",
                    "svc",
                    "svc",
                    "svc",
                    "svc",
                    "svc"
                  ],
                  "x0": " ",
                  "xaxis": "x",
                  "y": [
                    0.49137931034482757,
                    0.4608695652173913,
                    0.40869565217391307,
                    0.4956521739130435,
                    0.46956521739130436,
                    0.5086206896551724,
                    0.5043478260869565,
                    0.5130434782608696,
                    0.5217391304347826,
                    0.46956521739130436,
                    0.5,
                    0.46956521739130436,
                    0.41739130434782606,
                    0.4608695652173913,
                    0.4782608695652174
                  ],
                  "y0": " ",
                  "yaxis": "y"
                },
                {
                  "alignmentgroup": "True",
                  "boxpoints": "all",
                  "hovertemplate": "Machine Learning Model=%{x}<br> Accuracy=%{y}<extra></extra>",
                  "legendgroup": "NB",
                  "marker": {
                    "color": "#FFA15A"
                  },
                  "name": "NB",
                  "notched": false,
                  "offsetgroup": "NB",
                  "orientation": "v",
                  "showlegend": true,
                  "type": "box",
                  "x": [
                    "NB",
                    "NB",
                    "NB",
                    "NB",
                    "NB",
                    "NB",
                    "NB",
                    "NB",
                    "NB",
                    "NB",
                    "NB",
                    "NB",
                    "NB",
                    "NB",
                    "NB"
                  ],
                  "x0": " ",
                  "xaxis": "x",
                  "y": [
                    0.6896551724137931,
                    0.8,
                    0.7913043478260869,
                    0.9043478260869565,
                    0.8347826086956521,
                    0.8017241379310345,
                    0.8608695652173913,
                    0.8260869565217391,
                    0.7478260869565218,
                    0.7652173913043478,
                    0.8275862068965517,
                    0.8,
                    0.7652173913043478,
                    0.8521739130434782,
                    0.8260869565217391
                  ],
                  "y0": " ",
                  "yaxis": "y"
                },
                {
                  "alignmentgroup": "True",
                  "boxpoints": "all",
                  "hovertemplate": "Machine Learning Model=%{x}<br> Accuracy=%{y}<extra></extra>",
                  "legendgroup": "Random Forest",
                  "marker": {
                    "color": "#19d3f3"
                  },
                  "name": "Random Forest",
                  "notched": false,
                  "offsetgroup": "Random Forest",
                  "orientation": "v",
                  "showlegend": true,
                  "type": "box",
                  "x": [
                    "Random Forest",
                    "Random Forest",
                    "Random Forest",
                    "Random Forest",
                    "Random Forest",
                    "Random Forest",
                    "Random Forest",
                    "Random Forest",
                    "Random Forest",
                    "Random Forest",
                    "Random Forest",
                    "Random Forest",
                    "Random Forest",
                    "Random Forest",
                    "Random Forest"
                  ],
                  "x0": " ",
                  "xaxis": "x",
                  "y": [
                    0.896551724137931,
                    0.9130434782608695,
                    0.8782608695652174,
                    0.9391304347826087,
                    0.9304347826086956,
                    0.9224137931034483,
                    0.9478260869565217,
                    0.9130434782608695,
                    0.8869565217391304,
                    0.9130434782608695,
                    0.9224137931034483,
                    0.9304347826086956,
                    0.9304347826086956,
                    0.8869565217391304,
                    0.9478260869565217
                  ],
                  "y0": " ",
                  "yaxis": "y"
                },
                {
                  "alignmentgroup": "True",
                  "boxpoints": "all",
                  "hovertemplate": "Machine Learning Model=%{x}<br> Accuracy=%{y}<extra></extra>",
                  "legendgroup": "Bagging",
                  "marker": {
                    "color": "#FF6692"
                  },
                  "name": "Bagging",
                  "notched": false,
                  "offsetgroup": "Bagging",
                  "orientation": "v",
                  "showlegend": true,
                  "type": "box",
                  "x": [
                    "Bagging",
                    "Bagging",
                    "Bagging",
                    "Bagging",
                    "Bagging",
                    "Bagging",
                    "Bagging",
                    "Bagging",
                    "Bagging",
                    "Bagging",
                    "Bagging",
                    "Bagging",
                    "Bagging",
                    "Bagging",
                    "Bagging"
                  ],
                  "x0": " ",
                  "xaxis": "x",
                  "y": [
                    0.8620689655172413,
                    0.8956521739130435,
                    0.8434782608695652,
                    0.9130434782608695,
                    0.9217391304347826,
                    0.8620689655172413,
                    0.9130434782608695,
                    0.8869565217391304,
                    0.8521739130434782,
                    0.8782608695652174,
                    0.896551724137931,
                    0.8695652173913043,
                    0.8782608695652174,
                    0.8260869565217391,
                    0.8869565217391304
                  ],
                  "y0": " ",
                  "yaxis": "y"
                },
                {
                  "alignmentgroup": "True",
                  "boxpoints": "all",
                  "hovertemplate": "Machine Learning Model=%{x}<br> Accuracy=%{y}<extra></extra>",
                  "legendgroup": "GBM",
                  "marker": {
                    "color": "#B6E880"
                  },
                  "name": "GBM",
                  "notched": false,
                  "offsetgroup": "GBM",
                  "orientation": "v",
                  "showlegend": true,
                  "type": "box",
                  "x": [
                    "GBM",
                    "GBM",
                    "GBM",
                    "GBM",
                    "GBM",
                    "GBM",
                    "GBM",
                    "GBM",
                    "GBM",
                    "GBM",
                    "GBM",
                    "GBM",
                    "GBM",
                    "GBM",
                    "GBM"
                  ],
                  "x0": " ",
                  "xaxis": "x",
                  "y": [
                    0.8793103448275862,
                    0.8956521739130435,
                    0.8869565217391304,
                    0.9304347826086956,
                    0.9043478260869565,
                    0.8620689655172413,
                    0.9217391304347826,
                    0.9130434782608695,
                    0.8956521739130435,
                    0.8869565217391304,
                    0.8879310344827587,
                    0.9130434782608695,
                    0.8956521739130435,
                    0.8695652173913043,
                    0.9130434782608695
                  ],
                  "y0": " ",
                  "yaxis": "y"
                },
                {
                  "alignmentgroup": "True",
                  "boxpoints": "all",
                  "hovertemplate": "Machine Learning Model=%{x}<br> Accuracy=%{y}<extra></extra>",
                  "legendgroup": "XGB",
                  "marker": {
                    "color": "#FF97FF"
                  },
                  "name": "XGB",
                  "notched": false,
                  "offsetgroup": "XGB",
                  "orientation": "v",
                  "showlegend": true,
                  "type": "box",
                  "x": [
                    "XGB",
                    "XGB",
                    "XGB",
                    "XGB",
                    "XGB",
                    "XGB",
                    "XGB",
                    "XGB",
                    "XGB",
                    "XGB",
                    "XGB",
                    "XGB",
                    "XGB",
                    "XGB",
                    "XGB"
                  ],
                  "x0": " ",
                  "xaxis": "x",
                  "y": [
                    0.8879310344827587,
                    0.9217391304347826,
                    0.8869565217391304,
                    0.9304347826086956,
                    0.9217391304347826,
                    0.9310344827586207,
                    0.9478260869565217,
                    0.9304347826086956,
                    0.8869565217391304,
                    0.8869565217391304,
                    0.8793103448275862,
                    0.8521739130434782,
                    0.9217391304347826,
                    0.9043478260869565,
                    0.9130434782608695
                  ],
                  "y0": " ",
                  "yaxis": "y"
                }
              ],
              "layout": {
                "boxmode": "overlay",
                "legend": {
                  "title": {
                    "text": "Machine Learning Model"
                  },
                  "tracegroupgap": 0
                },
                "template": {
                  "data": {
                    "bar": [
                      {
                        "error_x": {
                          "color": "#2a3f5f"
                        },
                        "error_y": {
                          "color": "#2a3f5f"
                        },
                        "marker": {
                          "line": {
                            "color": "#E5ECF6",
                            "width": 0.5
                          },
                          "pattern": {
                            "fillmode": "overlay",
                            "size": 10,
                            "solidity": 0.2
                          }
                        },
                        "type": "bar"
                      }
                    ],
                    "barpolar": [
                      {
                        "marker": {
                          "line": {
                            "color": "#E5ECF6",
                            "width": 0.5
                          },
                          "pattern": {
                            "fillmode": "overlay",
                            "size": 10,
                            "solidity": 0.2
                          }
                        },
                        "type": "barpolar"
                      }
                    ],
                    "carpet": [
                      {
                        "aaxis": {
                          "endlinecolor": "#2a3f5f",
                          "gridcolor": "white",
                          "linecolor": "white",
                          "minorgridcolor": "white",
                          "startlinecolor": "#2a3f5f"
                        },
                        "baxis": {
                          "endlinecolor": "#2a3f5f",
                          "gridcolor": "white",
                          "linecolor": "white",
                          "minorgridcolor": "white",
                          "startlinecolor": "#2a3f5f"
                        },
                        "type": "carpet"
                      }
                    ],
                    "choropleth": [
                      {
                        "colorbar": {
                          "outlinewidth": 0,
                          "ticks": ""
                        },
                        "type": "choropleth"
                      }
                    ],
                    "contour": [
                      {
                        "colorbar": {
                          "outlinewidth": 0,
                          "ticks": ""
                        },
                        "colorscale": [
                          [
                            0,
                            "#0d0887"
                          ],
                          [
                            0.1111111111111111,
                            "#46039f"
                          ],
                          [
                            0.2222222222222222,
                            "#7201a8"
                          ],
                          [
                            0.3333333333333333,
                            "#9c179e"
                          ],
                          [
                            0.4444444444444444,
                            "#bd3786"
                          ],
                          [
                            0.5555555555555556,
                            "#d8576b"
                          ],
                          [
                            0.6666666666666666,
                            "#ed7953"
                          ],
                          [
                            0.7777777777777778,
                            "#fb9f3a"
                          ],
                          [
                            0.8888888888888888,
                            "#fdca26"
                          ],
                          [
                            1,
                            "#f0f921"
                          ]
                        ],
                        "type": "contour"
                      }
                    ],
                    "contourcarpet": [
                      {
                        "colorbar": {
                          "outlinewidth": 0,
                          "ticks": ""
                        },
                        "type": "contourcarpet"
                      }
                    ],
                    "heatmap": [
                      {
                        "colorbar": {
                          "outlinewidth": 0,
                          "ticks": ""
                        },
                        "colorscale": [
                          [
                            0,
                            "#0d0887"
                          ],
                          [
                            0.1111111111111111,
                            "#46039f"
                          ],
                          [
                            0.2222222222222222,
                            "#7201a8"
                          ],
                          [
                            0.3333333333333333,
                            "#9c179e"
                          ],
                          [
                            0.4444444444444444,
                            "#bd3786"
                          ],
                          [
                            0.5555555555555556,
                            "#d8576b"
                          ],
                          [
                            0.6666666666666666,
                            "#ed7953"
                          ],
                          [
                            0.7777777777777778,
                            "#fb9f3a"
                          ],
                          [
                            0.8888888888888888,
                            "#fdca26"
                          ],
                          [
                            1,
                            "#f0f921"
                          ]
                        ],
                        "type": "heatmap"
                      }
                    ],
                    "heatmapgl": [
                      {
                        "colorbar": {
                          "outlinewidth": 0,
                          "ticks": ""
                        },
                        "colorscale": [
                          [
                            0,
                            "#0d0887"
                          ],
                          [
                            0.1111111111111111,
                            "#46039f"
                          ],
                          [
                            0.2222222222222222,
                            "#7201a8"
                          ],
                          [
                            0.3333333333333333,
                            "#9c179e"
                          ],
                          [
                            0.4444444444444444,
                            "#bd3786"
                          ],
                          [
                            0.5555555555555556,
                            "#d8576b"
                          ],
                          [
                            0.6666666666666666,
                            "#ed7953"
                          ],
                          [
                            0.7777777777777778,
                            "#fb9f3a"
                          ],
                          [
                            0.8888888888888888,
                            "#fdca26"
                          ],
                          [
                            1,
                            "#f0f921"
                          ]
                        ],
                        "type": "heatmapgl"
                      }
                    ],
                    "histogram": [
                      {
                        "marker": {
                          "pattern": {
                            "fillmode": "overlay",
                            "size": 10,
                            "solidity": 0.2
                          }
                        },
                        "type": "histogram"
                      }
                    ],
                    "histogram2d": [
                      {
                        "colorbar": {
                          "outlinewidth": 0,
                          "ticks": ""
                        },
                        "colorscale": [
                          [
                            0,
                            "#0d0887"
                          ],
                          [
                            0.1111111111111111,
                            "#46039f"
                          ],
                          [
                            0.2222222222222222,
                            "#7201a8"
                          ],
                          [
                            0.3333333333333333,
                            "#9c179e"
                          ],
                          [
                            0.4444444444444444,
                            "#bd3786"
                          ],
                          [
                            0.5555555555555556,
                            "#d8576b"
                          ],
                          [
                            0.6666666666666666,
                            "#ed7953"
                          ],
                          [
                            0.7777777777777778,
                            "#fb9f3a"
                          ],
                          [
                            0.8888888888888888,
                            "#fdca26"
                          ],
                          [
                            1,
                            "#f0f921"
                          ]
                        ],
                        "type": "histogram2d"
                      }
                    ],
                    "histogram2dcontour": [
                      {
                        "colorbar": {
                          "outlinewidth": 0,
                          "ticks": ""
                        },
                        "colorscale": [
                          [
                            0,
                            "#0d0887"
                          ],
                          [
                            0.1111111111111111,
                            "#46039f"
                          ],
                          [
                            0.2222222222222222,
                            "#7201a8"
                          ],
                          [
                            0.3333333333333333,
                            "#9c179e"
                          ],
                          [
                            0.4444444444444444,
                            "#bd3786"
                          ],
                          [
                            0.5555555555555556,
                            "#d8576b"
                          ],
                          [
                            0.6666666666666666,
                            "#ed7953"
                          ],
                          [
                            0.7777777777777778,
                            "#fb9f3a"
                          ],
                          [
                            0.8888888888888888,
                            "#fdca26"
                          ],
                          [
                            1,
                            "#f0f921"
                          ]
                        ],
                        "type": "histogram2dcontour"
                      }
                    ],
                    "mesh3d": [
                      {
                        "colorbar": {
                          "outlinewidth": 0,
                          "ticks": ""
                        },
                        "type": "mesh3d"
                      }
                    ],
                    "parcoords": [
                      {
                        "line": {
                          "colorbar": {
                            "outlinewidth": 0,
                            "ticks": ""
                          }
                        },
                        "type": "parcoords"
                      }
                    ],
                    "pie": [
                      {
                        "automargin": true,
                        "type": "pie"
                      }
                    ],
                    "scatter": [
                      {
                        "fillpattern": {
                          "fillmode": "overlay",
                          "size": 10,
                          "solidity": 0.2
                        },
                        "type": "scatter"
                      }
                    ],
                    "scatter3d": [
                      {
                        "line": {
                          "colorbar": {
                            "outlinewidth": 0,
                            "ticks": ""
                          }
                        },
                        "marker": {
                          "colorbar": {
                            "outlinewidth": 0,
                            "ticks": ""
                          }
                        },
                        "type": "scatter3d"
                      }
                    ],
                    "scattercarpet": [
                      {
                        "marker": {
                          "colorbar": {
                            "outlinewidth": 0,
                            "ticks": ""
                          }
                        },
                        "type": "scattercarpet"
                      }
                    ],
                    "scattergeo": [
                      {
                        "marker": {
                          "colorbar": {
                            "outlinewidth": 0,
                            "ticks": ""
                          }
                        },
                        "type": "scattergeo"
                      }
                    ],
                    "scattergl": [
                      {
                        "marker": {
                          "colorbar": {
                            "outlinewidth": 0,
                            "ticks": ""
                          }
                        },
                        "type": "scattergl"
                      }
                    ],
                    "scattermapbox": [
                      {
                        "marker": {
                          "colorbar": {
                            "outlinewidth": 0,
                            "ticks": ""
                          }
                        },
                        "type": "scattermapbox"
                      }
                    ],
                    "scatterpolar": [
                      {
                        "marker": {
                          "colorbar": {
                            "outlinewidth": 0,
                            "ticks": ""
                          }
                        },
                        "type": "scatterpolar"
                      }
                    ],
                    "scatterpolargl": [
                      {
                        "marker": {
                          "colorbar": {
                            "outlinewidth": 0,
                            "ticks": ""
                          }
                        },
                        "type": "scatterpolargl"
                      }
                    ],
                    "scatterternary": [
                      {
                        "marker": {
                          "colorbar": {
                            "outlinewidth": 0,
                            "ticks": ""
                          }
                        },
                        "type": "scatterternary"
                      }
                    ],
                    "surface": [
                      {
                        "colorbar": {
                          "outlinewidth": 0,
                          "ticks": ""
                        },
                        "colorscale": [
                          [
                            0,
                            "#0d0887"
                          ],
                          [
                            0.1111111111111111,
                            "#46039f"
                          ],
                          [
                            0.2222222222222222,
                            "#7201a8"
                          ],
                          [
                            0.3333333333333333,
                            "#9c179e"
                          ],
                          [
                            0.4444444444444444,
                            "#bd3786"
                          ],
                          [
                            0.5555555555555556,
                            "#d8576b"
                          ],
                          [
                            0.6666666666666666,
                            "#ed7953"
                          ],
                          [
                            0.7777777777777778,
                            "#fb9f3a"
                          ],
                          [
                            0.8888888888888888,
                            "#fdca26"
                          ],
                          [
                            1,
                            "#f0f921"
                          ]
                        ],
                        "type": "surface"
                      }
                    ],
                    "table": [
                      {
                        "cells": {
                          "fill": {
                            "color": "#EBF0F8"
                          },
                          "line": {
                            "color": "white"
                          }
                        },
                        "header": {
                          "fill": {
                            "color": "#C8D4E3"
                          },
                          "line": {
                            "color": "white"
                          }
                        },
                        "type": "table"
                      }
                    ]
                  },
                  "layout": {
                    "annotationdefaults": {
                      "arrowcolor": "#2a3f5f",
                      "arrowhead": 0,
                      "arrowwidth": 1
                    },
                    "autotypenumbers": "strict",
                    "coloraxis": {
                      "colorbar": {
                        "outlinewidth": 0,
                        "ticks": ""
                      }
                    },
                    "colorscale": {
                      "diverging": [
                        [
                          0,
                          "#8e0152"
                        ],
                        [
                          0.1,
                          "#c51b7d"
                        ],
                        [
                          0.2,
                          "#de77ae"
                        ],
                        [
                          0.3,
                          "#f1b6da"
                        ],
                        [
                          0.4,
                          "#fde0ef"
                        ],
                        [
                          0.5,
                          "#f7f7f7"
                        ],
                        [
                          0.6,
                          "#e6f5d0"
                        ],
                        [
                          0.7,
                          "#b8e186"
                        ],
                        [
                          0.8,
                          "#7fbc41"
                        ],
                        [
                          0.9,
                          "#4d9221"
                        ],
                        [
                          1,
                          "#276419"
                        ]
                      ],
                      "sequential": [
                        [
                          0,
                          "#0d0887"
                        ],
                        [
                          0.1111111111111111,
                          "#46039f"
                        ],
                        [
                          0.2222222222222222,
                          "#7201a8"
                        ],
                        [
                          0.3333333333333333,
                          "#9c179e"
                        ],
                        [
                          0.4444444444444444,
                          "#bd3786"
                        ],
                        [
                          0.5555555555555556,
                          "#d8576b"
                        ],
                        [
                          0.6666666666666666,
                          "#ed7953"
                        ],
                        [
                          0.7777777777777778,
                          "#fb9f3a"
                        ],
                        [
                          0.8888888888888888,
                          "#fdca26"
                        ],
                        [
                          1,
                          "#f0f921"
                        ]
                      ],
                      "sequentialminus": [
                        [
                          0,
                          "#0d0887"
                        ],
                        [
                          0.1111111111111111,
                          "#46039f"
                        ],
                        [
                          0.2222222222222222,
                          "#7201a8"
                        ],
                        [
                          0.3333333333333333,
                          "#9c179e"
                        ],
                        [
                          0.4444444444444444,
                          "#bd3786"
                        ],
                        [
                          0.5555555555555556,
                          "#d8576b"
                        ],
                        [
                          0.6666666666666666,
                          "#ed7953"
                        ],
                        [
                          0.7777777777777778,
                          "#fb9f3a"
                        ],
                        [
                          0.8888888888888888,
                          "#fdca26"
                        ],
                        [
                          1,
                          "#f0f921"
                        ]
                      ]
                    },
                    "colorway": [
                      "#636efa",
                      "#EF553B",
                      "#00cc96",
                      "#ab63fa",
                      "#FFA15A",
                      "#19d3f3",
                      "#FF6692",
                      "#B6E880",
                      "#FF97FF",
                      "#FECB52"
                    ],
                    "font": {
                      "color": "#2a3f5f"
                    },
                    "geo": {
                      "bgcolor": "white",
                      "lakecolor": "white",
                      "landcolor": "#E5ECF6",
                      "showlakes": true,
                      "showland": true,
                      "subunitcolor": "white"
                    },
                    "hoverlabel": {
                      "align": "left"
                    },
                    "hovermode": "closest",
                    "mapbox": {
                      "style": "light"
                    },
                    "paper_bgcolor": "white",
                    "plot_bgcolor": "#E5ECF6",
                    "polar": {
                      "angularaxis": {
                        "gridcolor": "white",
                        "linecolor": "white",
                        "ticks": ""
                      },
                      "bgcolor": "#E5ECF6",
                      "radialaxis": {
                        "gridcolor": "white",
                        "linecolor": "white",
                        "ticks": ""
                      }
                    },
                    "scene": {
                      "xaxis": {
                        "backgroundcolor": "#E5ECF6",
                        "gridcolor": "white",
                        "gridwidth": 2,
                        "linecolor": "white",
                        "showbackground": true,
                        "ticks": "",
                        "zerolinecolor": "white"
                      },
                      "yaxis": {
                        "backgroundcolor": "#E5ECF6",
                        "gridcolor": "white",
                        "gridwidth": 2,
                        "linecolor": "white",
                        "showbackground": true,
                        "ticks": "",
                        "zerolinecolor": "white"
                      },
                      "zaxis": {
                        "backgroundcolor": "#E5ECF6",
                        "gridcolor": "white",
                        "gridwidth": 2,
                        "linecolor": "white",
                        "showbackground": true,
                        "ticks": "",
                        "zerolinecolor": "white"
                      }
                    },
                    "shapedefaults": {
                      "line": {
                        "color": "#2a3f5f"
                      }
                    },
                    "ternary": {
                      "aaxis": {
                        "gridcolor": "white",
                        "linecolor": "white",
                        "ticks": ""
                      },
                      "baxis": {
                        "gridcolor": "white",
                        "linecolor": "white",
                        "ticks": ""
                      },
                      "bgcolor": "#E5ECF6",
                      "caxis": {
                        "gridcolor": "white",
                        "linecolor": "white",
                        "ticks": ""
                      }
                    },
                    "title": {
                      "x": 0.05
                    },
                    "xaxis": {
                      "automargin": true,
                      "gridcolor": "white",
                      "linecolor": "white",
                      "ticks": "",
                      "title": {
                        "standoff": 15
                      },
                      "zerolinecolor": "white",
                      "zerolinewidth": 2
                    },
                    "yaxis": {
                      "automargin": true,
                      "gridcolor": "white",
                      "linecolor": "white",
                      "ticks": "",
                      "title": {
                        "standoff": 15
                      },
                      "zerolinecolor": "white",
                      "zerolinewidth": 2
                    }
                  }
                },
                "title": {
                  "text": "Model Performance"
                },
                "xaxis": {
                  "anchor": "y",
                  "categoryarray": [
                    "lg",
                    "KNN",
                    "Tree",
                    "svc",
                    "NB",
                    "Random Forest",
                    "Bagging",
                    "GBM",
                    "XGB"
                  ],
                  "categoryorder": "array",
                  "domain": [
                    0,
                    1
                  ],
                  "title": {
                    "text": "Machine Learning Model"
                  }
                },
                "yaxis": {
                  "anchor": "x",
                  "domain": [
                    0,
                    1
                  ],
                  "title": {
                    "text": " Accuracy"
                  }
                }
              }
            }
          },
          "metadata": {},
          "output_type": "display_data"
        }
      ],
      "source": [
        "import numpy as np\n",
        "models_g07 = base_models()\n",
        "\n",
        "# set lists for the results and model names\n",
        "results_g07, names_g07 = list(), list()\n",
        "\n",
        "# evaluate the score for each model\n",
        "for name, model in models_g07.items():\n",
        "  scores = eval_models(model)\n",
        "  results_g07.append(scores)\n",
        "  names_g07.append(name)\n",
        "  print('>%s %.3f (%.3f)' % (name, scores.mean(), scores.std()))\n",
        "\n",
        "# specify our classifier dataframe and the name of the classifiers\n",
        "classifier_g07 = pd.DataFrame(np.transpose(results_g07), columns = [\"lg\",\"KNN\",\"Tree\",\"svc\",\"NB\",\"Random Forest\",\"Bagging\",\"GBM\", \"XGB\"])\n",
        "classifier_g07 = pd.melt(classifier_g07.reset_index(), id_vars='index',value_vars=[\"lg\",\"KNN\",\"Tree\",\"svc\",\"NB\",\"Random Forest\",\"Bagging\",\"GBM\", \"XGB\"])\n",
        "\n",
        "# plot the result in box plot\n",
        "fig = px.box(classifier_g07, x=\"variable\", y=\"value\",color=\"variable\",points='all',\n",
        "labels={\"variable\": \"Machine Learning Model\",\n",
        "        \"value\": \" Accuracy\"\n",
        "        },title=\"Model Performance\")\n",
        "\n",
        "fig.show()"
      ]
    },
    {
      "cell_type": "markdown",
      "metadata": {
        "id": "rCLTLbQM4XT7"
      },
      "source": [
        "## Select the best classifiers for level 0 classifier. Use logistic regression as a second level classifier. Generate the box plot and show the accuracy of each algorithm as well as stacked classifier."
      ]
    },
    {
      "cell_type": "code",
      "execution_count": 64,
      "metadata": {
        "colab": {
          "base_uri": "https://localhost:8080/"
        },
        "id": "bR5OksJd4XT7",
        "outputId": "15ae4b81-092a-4139-a21c-7204d286b13b"
      },
      "outputs": [
        {
          "name": "stdout",
          "output_type": "stream",
          "text": [
            ">lg 0.865 (0.029)\n",
            ">Random Forest 0.921 (0.023)\n",
            ">Bagging 0.873 (0.027)\n",
            ">GBM 0.896 (0.019)\n",
            ">XGB 0.913 (0.022)\n",
            ">Stacked Model 0.918 (0.025)\n"
          ]
        },
        {
          "data": {
            "application/vnd.plotly.v1+json": {
              "config": {
                "plotlyServerURL": "https://plot.ly"
              },
              "data": [
                {
                  "alignmentgroup": "True",
                  "boxpoints": "all",
                  "hovertemplate": "Machine Learning Model=%{x}<br> Accuracy=%{y}<extra></extra>",
                  "legendgroup": "lg",
                  "marker": {
                    "color": "#636efa"
                  },
                  "name": "lg",
                  "notched": false,
                  "offsetgroup": "lg",
                  "orientation": "v",
                  "showlegend": true,
                  "type": "box",
                  "x": [
                    "lg",
                    "lg",
                    "lg",
                    "lg",
                    "lg",
                    "lg",
                    "lg",
                    "lg",
                    "lg",
                    "lg"
                  ],
                  "x0": " ",
                  "xaxis": "x",
                  "y": [
                    0.8189655172413793,
                    0.8956521739130435,
                    0.8434782608695652,
                    0.9130434782608695,
                    0.8347826086956521,
                    0.8620689655172413,
                    0.8956521739130435,
                    0.8434782608695652,
                    0.8695652173913043,
                    0.8695652173913043
                  ],
                  "y0": " ",
                  "yaxis": "y"
                },
                {
                  "alignmentgroup": "True",
                  "boxpoints": "all",
                  "hovertemplate": "Machine Learning Model=%{x}<br> Accuracy=%{y}<extra></extra>",
                  "legendgroup": "Random Forest",
                  "marker": {
                    "color": "#EF553B"
                  },
                  "name": "Random Forest",
                  "notched": false,
                  "offsetgroup": "Random Forest",
                  "orientation": "v",
                  "showlegend": true,
                  "type": "box",
                  "x": [
                    "Random Forest",
                    "Random Forest",
                    "Random Forest",
                    "Random Forest",
                    "Random Forest",
                    "Random Forest",
                    "Random Forest",
                    "Random Forest",
                    "Random Forest",
                    "Random Forest"
                  ],
                  "x0": " ",
                  "xaxis": "x",
                  "y": [
                    0.8879310344827587,
                    0.9217391304347826,
                    0.9043478260869565,
                    0.9565217391304348,
                    0.9304347826086956,
                    0.9137931034482759,
                    0.9478260869565217,
                    0.9478260869565217,
                    0.8869565217391304,
                    0.9130434782608695
                  ],
                  "y0": " ",
                  "yaxis": "y"
                },
                {
                  "alignmentgroup": "True",
                  "boxpoints": "all",
                  "hovertemplate": "Machine Learning Model=%{x}<br> Accuracy=%{y}<extra></extra>",
                  "legendgroup": "Bagging",
                  "marker": {
                    "color": "#00cc96"
                  },
                  "name": "Bagging",
                  "notched": false,
                  "offsetgroup": "Bagging",
                  "orientation": "v",
                  "showlegend": true,
                  "type": "box",
                  "x": [
                    "Bagging",
                    "Bagging",
                    "Bagging",
                    "Bagging",
                    "Bagging",
                    "Bagging",
                    "Bagging",
                    "Bagging",
                    "Bagging",
                    "Bagging"
                  ],
                  "x0": " ",
                  "xaxis": "x",
                  "y": [
                    0.8362068965517241,
                    0.8695652173913043,
                    0.8434782608695652,
                    0.8869565217391304,
                    0.9043478260869565,
                    0.8879310344827587,
                    0.8956521739130435,
                    0.9130434782608695,
                    0.8521739130434782,
                    0.8434782608695652
                  ],
                  "y0": " ",
                  "yaxis": "y"
                },
                {
                  "alignmentgroup": "True",
                  "boxpoints": "all",
                  "hovertemplate": "Machine Learning Model=%{x}<br> Accuracy=%{y}<extra></extra>",
                  "legendgroup": "GBM",
                  "marker": {
                    "color": "#ab63fa"
                  },
                  "name": "GBM",
                  "notched": false,
                  "offsetgroup": "GBM",
                  "orientation": "v",
                  "showlegend": true,
                  "type": "box",
                  "x": [
                    "GBM",
                    "GBM",
                    "GBM",
                    "GBM",
                    "GBM",
                    "GBM",
                    "GBM",
                    "GBM",
                    "GBM",
                    "GBM"
                  ],
                  "x0": " ",
                  "xaxis": "x",
                  "y": [
                    0.8706896551724138,
                    0.8956521739130435,
                    0.8869565217391304,
                    0.9304347826086956,
                    0.9043478260869565,
                    0.8620689655172413,
                    0.9130434782608695,
                    0.9130434782608695,
                    0.8956521739130435,
                    0.8869565217391304
                  ],
                  "y0": " ",
                  "yaxis": "y"
                },
                {
                  "alignmentgroup": "True",
                  "boxpoints": "all",
                  "hovertemplate": "Machine Learning Model=%{x}<br> Accuracy=%{y}<extra></extra>",
                  "legendgroup": "XGB",
                  "marker": {
                    "color": "#FFA15A"
                  },
                  "name": "XGB",
                  "notched": false,
                  "offsetgroup": "XGB",
                  "orientation": "v",
                  "showlegend": true,
                  "type": "box",
                  "x": [
                    "XGB",
                    "XGB",
                    "XGB",
                    "XGB",
                    "XGB",
                    "XGB",
                    "XGB",
                    "XGB",
                    "XGB",
                    "XGB"
                  ],
                  "x0": " ",
                  "xaxis": "x",
                  "y": [
                    0.8879310344827587,
                    0.9217391304347826,
                    0.8869565217391304,
                    0.9304347826086956,
                    0.9217391304347826,
                    0.9310344827586207,
                    0.9478260869565217,
                    0.9304347826086956,
                    0.8869565217391304,
                    0.8869565217391304
                  ],
                  "y0": " ",
                  "yaxis": "y"
                },
                {
                  "alignmentgroup": "True",
                  "boxpoints": "all",
                  "hovertemplate": "Machine Learning Model=%{x}<br> Accuracy=%{y}<extra></extra>",
                  "legendgroup": "stacked model",
                  "marker": {
                    "color": "#19d3f3"
                  },
                  "name": "stacked model",
                  "notched": false,
                  "offsetgroup": "stacked model",
                  "orientation": "v",
                  "showlegend": true,
                  "type": "box",
                  "x": [
                    "stacked model",
                    "stacked model",
                    "stacked model",
                    "stacked model",
                    "stacked model",
                    "stacked model",
                    "stacked model",
                    "stacked model",
                    "stacked model",
                    "stacked model"
                  ],
                  "x0": " ",
                  "xaxis": "x",
                  "y": [
                    0.8793103448275862,
                    0.9391304347826087,
                    0.8956521739130435,
                    0.9391304347826087,
                    0.9304347826086956,
                    0.9310344827586207,
                    0.9478260869565217,
                    0.9391304347826087,
                    0.8869565217391304,
                    0.8869565217391304
                  ],
                  "y0": " ",
                  "yaxis": "y"
                }
              ],
              "layout": {
                "boxmode": "overlay",
                "legend": {
                  "title": {
                    "text": "Machine Learning Model"
                  },
                  "tracegroupgap": 0
                },
                "template": {
                  "data": {
                    "bar": [
                      {
                        "error_x": {
                          "color": "#2a3f5f"
                        },
                        "error_y": {
                          "color": "#2a3f5f"
                        },
                        "marker": {
                          "line": {
                            "color": "#E5ECF6",
                            "width": 0.5
                          },
                          "pattern": {
                            "fillmode": "overlay",
                            "size": 10,
                            "solidity": 0.2
                          }
                        },
                        "type": "bar"
                      }
                    ],
                    "barpolar": [
                      {
                        "marker": {
                          "line": {
                            "color": "#E5ECF6",
                            "width": 0.5
                          },
                          "pattern": {
                            "fillmode": "overlay",
                            "size": 10,
                            "solidity": 0.2
                          }
                        },
                        "type": "barpolar"
                      }
                    ],
                    "carpet": [
                      {
                        "aaxis": {
                          "endlinecolor": "#2a3f5f",
                          "gridcolor": "white",
                          "linecolor": "white",
                          "minorgridcolor": "white",
                          "startlinecolor": "#2a3f5f"
                        },
                        "baxis": {
                          "endlinecolor": "#2a3f5f",
                          "gridcolor": "white",
                          "linecolor": "white",
                          "minorgridcolor": "white",
                          "startlinecolor": "#2a3f5f"
                        },
                        "type": "carpet"
                      }
                    ],
                    "choropleth": [
                      {
                        "colorbar": {
                          "outlinewidth": 0,
                          "ticks": ""
                        },
                        "type": "choropleth"
                      }
                    ],
                    "contour": [
                      {
                        "colorbar": {
                          "outlinewidth": 0,
                          "ticks": ""
                        },
                        "colorscale": [
                          [
                            0,
                            "#0d0887"
                          ],
                          [
                            0.1111111111111111,
                            "#46039f"
                          ],
                          [
                            0.2222222222222222,
                            "#7201a8"
                          ],
                          [
                            0.3333333333333333,
                            "#9c179e"
                          ],
                          [
                            0.4444444444444444,
                            "#bd3786"
                          ],
                          [
                            0.5555555555555556,
                            "#d8576b"
                          ],
                          [
                            0.6666666666666666,
                            "#ed7953"
                          ],
                          [
                            0.7777777777777778,
                            "#fb9f3a"
                          ],
                          [
                            0.8888888888888888,
                            "#fdca26"
                          ],
                          [
                            1,
                            "#f0f921"
                          ]
                        ],
                        "type": "contour"
                      }
                    ],
                    "contourcarpet": [
                      {
                        "colorbar": {
                          "outlinewidth": 0,
                          "ticks": ""
                        },
                        "type": "contourcarpet"
                      }
                    ],
                    "heatmap": [
                      {
                        "colorbar": {
                          "outlinewidth": 0,
                          "ticks": ""
                        },
                        "colorscale": [
                          [
                            0,
                            "#0d0887"
                          ],
                          [
                            0.1111111111111111,
                            "#46039f"
                          ],
                          [
                            0.2222222222222222,
                            "#7201a8"
                          ],
                          [
                            0.3333333333333333,
                            "#9c179e"
                          ],
                          [
                            0.4444444444444444,
                            "#bd3786"
                          ],
                          [
                            0.5555555555555556,
                            "#d8576b"
                          ],
                          [
                            0.6666666666666666,
                            "#ed7953"
                          ],
                          [
                            0.7777777777777778,
                            "#fb9f3a"
                          ],
                          [
                            0.8888888888888888,
                            "#fdca26"
                          ],
                          [
                            1,
                            "#f0f921"
                          ]
                        ],
                        "type": "heatmap"
                      }
                    ],
                    "heatmapgl": [
                      {
                        "colorbar": {
                          "outlinewidth": 0,
                          "ticks": ""
                        },
                        "colorscale": [
                          [
                            0,
                            "#0d0887"
                          ],
                          [
                            0.1111111111111111,
                            "#46039f"
                          ],
                          [
                            0.2222222222222222,
                            "#7201a8"
                          ],
                          [
                            0.3333333333333333,
                            "#9c179e"
                          ],
                          [
                            0.4444444444444444,
                            "#bd3786"
                          ],
                          [
                            0.5555555555555556,
                            "#d8576b"
                          ],
                          [
                            0.6666666666666666,
                            "#ed7953"
                          ],
                          [
                            0.7777777777777778,
                            "#fb9f3a"
                          ],
                          [
                            0.8888888888888888,
                            "#fdca26"
                          ],
                          [
                            1,
                            "#f0f921"
                          ]
                        ],
                        "type": "heatmapgl"
                      }
                    ],
                    "histogram": [
                      {
                        "marker": {
                          "pattern": {
                            "fillmode": "overlay",
                            "size": 10,
                            "solidity": 0.2
                          }
                        },
                        "type": "histogram"
                      }
                    ],
                    "histogram2d": [
                      {
                        "colorbar": {
                          "outlinewidth": 0,
                          "ticks": ""
                        },
                        "colorscale": [
                          [
                            0,
                            "#0d0887"
                          ],
                          [
                            0.1111111111111111,
                            "#46039f"
                          ],
                          [
                            0.2222222222222222,
                            "#7201a8"
                          ],
                          [
                            0.3333333333333333,
                            "#9c179e"
                          ],
                          [
                            0.4444444444444444,
                            "#bd3786"
                          ],
                          [
                            0.5555555555555556,
                            "#d8576b"
                          ],
                          [
                            0.6666666666666666,
                            "#ed7953"
                          ],
                          [
                            0.7777777777777778,
                            "#fb9f3a"
                          ],
                          [
                            0.8888888888888888,
                            "#fdca26"
                          ],
                          [
                            1,
                            "#f0f921"
                          ]
                        ],
                        "type": "histogram2d"
                      }
                    ],
                    "histogram2dcontour": [
                      {
                        "colorbar": {
                          "outlinewidth": 0,
                          "ticks": ""
                        },
                        "colorscale": [
                          [
                            0,
                            "#0d0887"
                          ],
                          [
                            0.1111111111111111,
                            "#46039f"
                          ],
                          [
                            0.2222222222222222,
                            "#7201a8"
                          ],
                          [
                            0.3333333333333333,
                            "#9c179e"
                          ],
                          [
                            0.4444444444444444,
                            "#bd3786"
                          ],
                          [
                            0.5555555555555556,
                            "#d8576b"
                          ],
                          [
                            0.6666666666666666,
                            "#ed7953"
                          ],
                          [
                            0.7777777777777778,
                            "#fb9f3a"
                          ],
                          [
                            0.8888888888888888,
                            "#fdca26"
                          ],
                          [
                            1,
                            "#f0f921"
                          ]
                        ],
                        "type": "histogram2dcontour"
                      }
                    ],
                    "mesh3d": [
                      {
                        "colorbar": {
                          "outlinewidth": 0,
                          "ticks": ""
                        },
                        "type": "mesh3d"
                      }
                    ],
                    "parcoords": [
                      {
                        "line": {
                          "colorbar": {
                            "outlinewidth": 0,
                            "ticks": ""
                          }
                        },
                        "type": "parcoords"
                      }
                    ],
                    "pie": [
                      {
                        "automargin": true,
                        "type": "pie"
                      }
                    ],
                    "scatter": [
                      {
                        "fillpattern": {
                          "fillmode": "overlay",
                          "size": 10,
                          "solidity": 0.2
                        },
                        "type": "scatter"
                      }
                    ],
                    "scatter3d": [
                      {
                        "line": {
                          "colorbar": {
                            "outlinewidth": 0,
                            "ticks": ""
                          }
                        },
                        "marker": {
                          "colorbar": {
                            "outlinewidth": 0,
                            "ticks": ""
                          }
                        },
                        "type": "scatter3d"
                      }
                    ],
                    "scattercarpet": [
                      {
                        "marker": {
                          "colorbar": {
                            "outlinewidth": 0,
                            "ticks": ""
                          }
                        },
                        "type": "scattercarpet"
                      }
                    ],
                    "scattergeo": [
                      {
                        "marker": {
                          "colorbar": {
                            "outlinewidth": 0,
                            "ticks": ""
                          }
                        },
                        "type": "scattergeo"
                      }
                    ],
                    "scattergl": [
                      {
                        "marker": {
                          "colorbar": {
                            "outlinewidth": 0,
                            "ticks": ""
                          }
                        },
                        "type": "scattergl"
                      }
                    ],
                    "scattermapbox": [
                      {
                        "marker": {
                          "colorbar": {
                            "outlinewidth": 0,
                            "ticks": ""
                          }
                        },
                        "type": "scattermapbox"
                      }
                    ],
                    "scatterpolar": [
                      {
                        "marker": {
                          "colorbar": {
                            "outlinewidth": 0,
                            "ticks": ""
                          }
                        },
                        "type": "scatterpolar"
                      }
                    ],
                    "scatterpolargl": [
                      {
                        "marker": {
                          "colorbar": {
                            "outlinewidth": 0,
                            "ticks": ""
                          }
                        },
                        "type": "scatterpolargl"
                      }
                    ],
                    "scatterternary": [
                      {
                        "marker": {
                          "colorbar": {
                            "outlinewidth": 0,
                            "ticks": ""
                          }
                        },
                        "type": "scatterternary"
                      }
                    ],
                    "surface": [
                      {
                        "colorbar": {
                          "outlinewidth": 0,
                          "ticks": ""
                        },
                        "colorscale": [
                          [
                            0,
                            "#0d0887"
                          ],
                          [
                            0.1111111111111111,
                            "#46039f"
                          ],
                          [
                            0.2222222222222222,
                            "#7201a8"
                          ],
                          [
                            0.3333333333333333,
                            "#9c179e"
                          ],
                          [
                            0.4444444444444444,
                            "#bd3786"
                          ],
                          [
                            0.5555555555555556,
                            "#d8576b"
                          ],
                          [
                            0.6666666666666666,
                            "#ed7953"
                          ],
                          [
                            0.7777777777777778,
                            "#fb9f3a"
                          ],
                          [
                            0.8888888888888888,
                            "#fdca26"
                          ],
                          [
                            1,
                            "#f0f921"
                          ]
                        ],
                        "type": "surface"
                      }
                    ],
                    "table": [
                      {
                        "cells": {
                          "fill": {
                            "color": "#EBF0F8"
                          },
                          "line": {
                            "color": "white"
                          }
                        },
                        "header": {
                          "fill": {
                            "color": "#C8D4E3"
                          },
                          "line": {
                            "color": "white"
                          }
                        },
                        "type": "table"
                      }
                    ]
                  },
                  "layout": {
                    "annotationdefaults": {
                      "arrowcolor": "#2a3f5f",
                      "arrowhead": 0,
                      "arrowwidth": 1
                    },
                    "autotypenumbers": "strict",
                    "coloraxis": {
                      "colorbar": {
                        "outlinewidth": 0,
                        "ticks": ""
                      }
                    },
                    "colorscale": {
                      "diverging": [
                        [
                          0,
                          "#8e0152"
                        ],
                        [
                          0.1,
                          "#c51b7d"
                        ],
                        [
                          0.2,
                          "#de77ae"
                        ],
                        [
                          0.3,
                          "#f1b6da"
                        ],
                        [
                          0.4,
                          "#fde0ef"
                        ],
                        [
                          0.5,
                          "#f7f7f7"
                        ],
                        [
                          0.6,
                          "#e6f5d0"
                        ],
                        [
                          0.7,
                          "#b8e186"
                        ],
                        [
                          0.8,
                          "#7fbc41"
                        ],
                        [
                          0.9,
                          "#4d9221"
                        ],
                        [
                          1,
                          "#276419"
                        ]
                      ],
                      "sequential": [
                        [
                          0,
                          "#0d0887"
                        ],
                        [
                          0.1111111111111111,
                          "#46039f"
                        ],
                        [
                          0.2222222222222222,
                          "#7201a8"
                        ],
                        [
                          0.3333333333333333,
                          "#9c179e"
                        ],
                        [
                          0.4444444444444444,
                          "#bd3786"
                        ],
                        [
                          0.5555555555555556,
                          "#d8576b"
                        ],
                        [
                          0.6666666666666666,
                          "#ed7953"
                        ],
                        [
                          0.7777777777777778,
                          "#fb9f3a"
                        ],
                        [
                          0.8888888888888888,
                          "#fdca26"
                        ],
                        [
                          1,
                          "#f0f921"
                        ]
                      ],
                      "sequentialminus": [
                        [
                          0,
                          "#0d0887"
                        ],
                        [
                          0.1111111111111111,
                          "#46039f"
                        ],
                        [
                          0.2222222222222222,
                          "#7201a8"
                        ],
                        [
                          0.3333333333333333,
                          "#9c179e"
                        ],
                        [
                          0.4444444444444444,
                          "#bd3786"
                        ],
                        [
                          0.5555555555555556,
                          "#d8576b"
                        ],
                        [
                          0.6666666666666666,
                          "#ed7953"
                        ],
                        [
                          0.7777777777777778,
                          "#fb9f3a"
                        ],
                        [
                          0.8888888888888888,
                          "#fdca26"
                        ],
                        [
                          1,
                          "#f0f921"
                        ]
                      ]
                    },
                    "colorway": [
                      "#636efa",
                      "#EF553B",
                      "#00cc96",
                      "#ab63fa",
                      "#FFA15A",
                      "#19d3f3",
                      "#FF6692",
                      "#B6E880",
                      "#FF97FF",
                      "#FECB52"
                    ],
                    "font": {
                      "color": "#2a3f5f"
                    },
                    "geo": {
                      "bgcolor": "white",
                      "lakecolor": "white",
                      "landcolor": "#E5ECF6",
                      "showlakes": true,
                      "showland": true,
                      "subunitcolor": "white"
                    },
                    "hoverlabel": {
                      "align": "left"
                    },
                    "hovermode": "closest",
                    "mapbox": {
                      "style": "light"
                    },
                    "paper_bgcolor": "white",
                    "plot_bgcolor": "#E5ECF6",
                    "polar": {
                      "angularaxis": {
                        "gridcolor": "white",
                        "linecolor": "white",
                        "ticks": ""
                      },
                      "bgcolor": "#E5ECF6",
                      "radialaxis": {
                        "gridcolor": "white",
                        "linecolor": "white",
                        "ticks": ""
                      }
                    },
                    "scene": {
                      "xaxis": {
                        "backgroundcolor": "#E5ECF6",
                        "gridcolor": "white",
                        "gridwidth": 2,
                        "linecolor": "white",
                        "showbackground": true,
                        "ticks": "",
                        "zerolinecolor": "white"
                      },
                      "yaxis": {
                        "backgroundcolor": "#E5ECF6",
                        "gridcolor": "white",
                        "gridwidth": 2,
                        "linecolor": "white",
                        "showbackground": true,
                        "ticks": "",
                        "zerolinecolor": "white"
                      },
                      "zaxis": {
                        "backgroundcolor": "#E5ECF6",
                        "gridcolor": "white",
                        "gridwidth": 2,
                        "linecolor": "white",
                        "showbackground": true,
                        "ticks": "",
                        "zerolinecolor": "white"
                      }
                    },
                    "shapedefaults": {
                      "line": {
                        "color": "#2a3f5f"
                      }
                    },
                    "ternary": {
                      "aaxis": {
                        "gridcolor": "white",
                        "linecolor": "white",
                        "ticks": ""
                      },
                      "baxis": {
                        "gridcolor": "white",
                        "linecolor": "white",
                        "ticks": ""
                      },
                      "bgcolor": "#E5ECF6",
                      "caxis": {
                        "gridcolor": "white",
                        "linecolor": "white",
                        "ticks": ""
                      }
                    },
                    "title": {
                      "x": 0.05
                    },
                    "xaxis": {
                      "automargin": true,
                      "gridcolor": "white",
                      "linecolor": "white",
                      "ticks": "",
                      "title": {
                        "standoff": 15
                      },
                      "zerolinecolor": "white",
                      "zerolinewidth": 2
                    },
                    "yaxis": {
                      "automargin": true,
                      "gridcolor": "white",
                      "linecolor": "white",
                      "ticks": "",
                      "title": {
                        "standoff": 15
                      },
                      "zerolinecolor": "white",
                      "zerolinewidth": 2
                    }
                  }
                },
                "title": {
                  "text": "Model Performance"
                },
                "xaxis": {
                  "anchor": "y",
                  "categoryarray": [
                    "lg",
                    "Random Forest",
                    "Bagging",
                    "GBM",
                    "XGB",
                    "stacked model"
                  ],
                  "categoryorder": "array",
                  "domain": [
                    0,
                    1
                  ],
                  "title": {
                    "text": "Machine Learning Model"
                  }
                },
                "yaxis": {
                  "anchor": "x",
                  "domain": [
                    0,
                    1
                  ],
                  "title": {
                    "text": " Accuracy"
                  }
                }
              }
            }
          },
          "metadata": {},
          "output_type": "display_data"
        }
      ],
      "source": [
        "# the best models are Random Forest, XGBoosting, GBM, and Bagging\n",
        "\n",
        "def get_stacking():\n",
        "\t# define the base models\n",
        "  level0 = list()\n",
        "  level0.append(('XGB', XGBClassifier()))\n",
        "  level0.append(('Tree', DecisionTreeClassifier()))\n",
        "  level0.append(('Random Forest', RandomForestClassifier()))\n",
        "  level0.append(('Bagging', BaggingClassifier()))\n",
        "\n",
        "\t# define second level model\n",
        "  level1 = LogisticRegression()\n",
        "\n",
        "\t# define the stacking ensemble\n",
        "  model = StackingClassifier(estimators=level0, final_estimator=level1, cv=5)\n",
        "  return model\n",
        "\n",
        "\n",
        "# define a function for base models we're going to train\n",
        "def base_models():\n",
        "  models = dict()\n",
        "  models[\"lg\"] = LogisticRegression(max_iter=10000)\n",
        "  models[\"Random Forest\"] = RandomForestClassifier()\n",
        "  models[\"Bagging\"] = BaggingClassifier()\n",
        "  models[\"GBM\"] = GradientBoostingClassifier()\n",
        "  models[\"XGB\"] = XGBClassifier()\n",
        "  models[\"Stacked Model\"] = get_stacking()\n",
        "  return models\n",
        "\n",
        "\n",
        "# define a function to evaluate the list of models using cross validation\n",
        "def eval_models(model):\n",
        "  # perform ten fold cross validation\n",
        "  cv = RepeatedKFold(n_splits=5, n_repeats=2, random_state=1)\n",
        "  # use accuracy to evaluate the performance of our classification models\n",
        "  scores = cross_val_score(model, X_train_resampled, y_train_resampled, scoring='accuracy', cv=cv, n_jobs=-1,\n",
        "                            error_score='raise')\n",
        "  return scores\n",
        "\n",
        "models_g07 = base_models()\n",
        "\n",
        "# set lists for the results and model names\n",
        "results_g07, names_g07 = list(), list()\n",
        "for name, model in models_g07.items():\n",
        "  scores = eval_models(model)\n",
        "  results_g07.append(scores)\n",
        "  names_g07.append(name)\n",
        "  print('>%s %.3f (%.3f)' % (name, scores.mean(), scores.std()))\n",
        "classifier_g07 = pd.DataFrame(np.transpose(results_g07), columns = [\"lg\", \"Random Forest\",\"Bagging\",\"GBM\",\"XGB\",\"stacked model\"])\n",
        "classifier_g07 = pd.melt(classifier_g07.reset_index(), id_vars='index',value_vars=[\"lg\", \"Random Forest\",\"Bagging\",\"GBM\",\"XGB\",\"stacked model\"])\n",
        "\n",
        "# plot the result boxplots\n",
        "fig = px.box(classifier_g07, x=\"variable\", y=\"value\",color=\"variable\",points='all',\n",
        "labels={\"variable\": \"Machine Learning Model\",\n",
        "        \"value\": \" Accuracy\"\n",
        "        },title=\"Model Performance\")\n",
        "fig.show()\n",
        "\n"
      ]
    },
    {
      "cell_type": "markdown",
      "metadata": {},
      "source": [
        "## Evaluate the performance of the stacking model."
      ]
    },
    {
      "cell_type": "code",
      "execution_count": 65,
      "metadata": {},
      "outputs": [],
      "source": [
        "level0 = list()\n",
        "level0.append(('XGB', XGBClassifier()))\n",
        "level0.append(('Tree', DecisionTreeClassifier()))\n",
        "level0.append(('Random Forest', RandomForestClassifier()))\n",
        "level0.append(('Bagging', BaggingClassifier()))\n",
        "\n",
        "# define second level model\n",
        "level1 = LogisticRegression()\n",
        "\n",
        "# define the stacking ensemble\n",
        "model = StackingClassifier(estimators=level0, final_estimator=level1, cv=5)\n",
        "model.fit(X_train_resampled,y_train_resampled.values.ravel())\n",
        "y_pred = model.predict(X_test)"
      ]
    },
    {
      "cell_type": "markdown",
      "metadata": {
        "id": "rYlesaaoZErV"
      },
      "source": [
        "## Display the confusion matrix."
      ]
    },
    {
      "cell_type": "code",
      "execution_count": 73,
      "metadata": {
        "colab": {
          "base_uri": "https://localhost:8080/",
          "height": 749
        },
        "id": "6BKABguibG-7",
        "outputId": "1ed91703-05f6-4ba2-f55b-9822517d6e0f"
      },
      "outputs": [
        {
          "name": "stdout",
          "output_type": "stream",
          "text": [
            "[[70  6]\n",
            " [ 7 26]]\n"
          ]
        },
        {
          "data": {
            "text/plain": [
              "<Figure size 187.5x187.5 with 0 Axes>"
            ]
          },
          "metadata": {},
          "output_type": "display_data"
        },
        {
          "data": {
            "image/png": "[encoded data removed]",
            "text/plain": [
              "<Figure size 640x480 with 2 Axes>"
            ]
          },
          "metadata": {},
          "output_type": "display_data"
        }
      ],
      "source": [
        "# use confusion_matrix from sklearn.metrics to calculate the confusion matrix for the test set\n",
        "cm = confusion_matrix(y_test,y_pred)\n",
        "print(cm)\n",
        "\n",
        "# set the canvas for the confusion matrix with size = 2.5x2.5 and dpi = 75\n",
        "plt.figure(figsize=(2.5, 2.5), dpi=75)\n",
        "# use ConfusionMatrixDisplay to visualize the confusion matrix with the model, the input matrix, and the true value\n",
        "cmplot = ConfusionMatrixDisplay(cm)\n",
        "cmplot.plot(cmap='Greens')\n",
        "plt.title('Confusion Matrix for the stacking classifier')\n",
        "plt.show()"
      ]
    }
  ],
  "metadata": {
    "colab": {
      "provenance": []
    },
    "kernelspec": {
      "display_name": "Python 3.9.12 ('base')",
      "language": "python",
      "name": "python3"
    },
    "language_info": {
      "codemirror_mode": {
        "name": "ipython",
        "version": 3
      },
      "file_extension": ".py",
      "mimetype": "text/x-python",
      "name": "python",
      "nbconvert_exporter": "python",
      "pygments_lexer": "ipython3",
      "version": "3.9.9"
    },
    "orig_nbformat": 4,
    "vscode": {
      "interpreter": {
        "hash": "9880b4128bd382861afa666f113ba31dc6171dcd6c25e5016f48e83331f8b455"
      }
    }
  },
  "nbformat": 4,
  "nbformat_minor": 0
}
