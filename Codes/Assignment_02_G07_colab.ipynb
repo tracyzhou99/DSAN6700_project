{
  "cells": [
    {
      "cell_type": "markdown",
      "metadata": {
        "id": "DtQc80y_4XTz"
      },
      "source": [
        "# Assignment 02 – Random Forest and Stacking"
      ]
    },
    {
      "cell_type": "markdown",
      "metadata": {
        "id": "6PHoFx7C4XT1"
      },
      "source": [
        "#### Project Group 7 - Tianqi Zhou - tz232"
      ]
    },
    {
      "cell_type": "markdown",
      "metadata": {
        "id": "OsWLUage4XT1"
      },
      "source": [
        "# Initialization\n",
        "\n"
      ]
    },
    {
      "cell_type": "code",
      "execution_count": 2,
      "metadata": {
        "id": "cnle_0_h4XT1"
      },
      "outputs": [],
      "source": [
        "# import libraries required\n",
        "import random\n",
        "import pandas as pd\n",
        "from imblearn.over_sampling import SMOTE\n",
        "from sklearn.model_selection import train_test_split\n",
        "# set a random seed for the project using the last four digits of uid\n",
        "random.seed(9334)"
      ]
    },
    {
      "cell_type": "markdown",
      "metadata": {
        "id": "-bczDqXB4XT2"
      },
      "source": [
        "## Load the dataset."
      ]
    },
    {
      "cell_type": "code",
      "execution_count": 3,
      "metadata": {
        "id": "bYfUpQhe4XT2"
      },
      "outputs": [],
      "source": [
        "# read the dataset\n",
        "g07 = pd.read_csv('./data/data.csv',header=0)\n"
      ]
    },
    {
      "cell_type": "markdown",
      "metadata": {
        "id": "1vD2aVA84XT3"
      },
      "source": [
        "## Show first 6 data points using head()."
      ]
    },
    {
      "cell_type": "code",
      "execution_count": 4,
      "metadata": {
        "colab": {
          "base_uri": "https://localhost:8080/",
          "height": 287
        },
        "id": "wwPgDXqR4XT3",
        "outputId": "eb4238bf-8ec1-4a41-c502-3741b5fa6e6e"
      },
      "outputs": [
        {
          "data": {
            "text/html": [
              "<div>\n",
              "<style scoped>\n",
              "    .dataframe tbody tr th:only-of-type {\n",
              "        vertical-align: middle;\n",
              "    }\n",
              "\n",
              "    .dataframe tbody tr th {\n",
              "        vertical-align: top;\n",
              "    }\n",
              "\n",
              "    .dataframe thead th {\n",
              "        text-align: right;\n",
              "    }\n",
              "</style>\n",
              "<table border=\"1\" class=\"dataframe\">\n",
              "  <thead>\n",
              "    <tr style=\"text-align: right;\">\n",
              "      <th></th>\n",
              "      <th>Unnamed: 0</th>\n",
              "      <th>PCOS (Y/N)</th>\n",
              "      <th>Age (yrs)</th>\n",
              "      <th>Weight (Kg)</th>\n",
              "      <th>Height(Cm)</th>\n",
              "      <th>BMI</th>\n",
              "      <th>Blood Group</th>\n",
              "      <th>Pulse rate(bpm)</th>\n",
              "      <th>RR (breaths/min)</th>\n",
              "      <th>Hb(g/dl)</th>\n",
              "      <th>...</th>\n",
              "      <th>Pimples(Y/N)</th>\n",
              "      <th>Fast food (Y/N)</th>\n",
              "      <th>Reg.Exercise(Y/N)</th>\n",
              "      <th>BP _Systolic (mmHg)</th>\n",
              "      <th>BP _Diastolic (mmHg)</th>\n",
              "      <th>Follicle No. (L)</th>\n",
              "      <th>Follicle No. (R)</th>\n",
              "      <th>Avg. F size (L) (mm)</th>\n",
              "      <th>Avg. F size (R) (mm)</th>\n",
              "      <th>Endometrium (mm)</th>\n",
              "    </tr>\n",
              "  </thead>\n",
              "  <tbody>\n",
              "    <tr>\n",
              "      <th>0</th>\n",
              "      <td>0</td>\n",
              "      <td>0</td>\n",
              "      <td>28</td>\n",
              "      <td>44.6</td>\n",
              "      <td>152.0</td>\n",
              "      <td>19.304017</td>\n",
              "      <td>15</td>\n",
              "      <td>78</td>\n",
              "      <td>22</td>\n",
              "      <td>10.48</td>\n",
              "      <td>...</td>\n",
              "      <td>0</td>\n",
              "      <td>1.0</td>\n",
              "      <td>0</td>\n",
              "      <td>110</td>\n",
              "      <td>80</td>\n",
              "      <td>3</td>\n",
              "      <td>3</td>\n",
              "      <td>18.0</td>\n",
              "      <td>18.0</td>\n",
              "      <td>8.5</td>\n",
              "    </tr>\n",
              "    <tr>\n",
              "      <th>1</th>\n",
              "      <td>1</td>\n",
              "      <td>0</td>\n",
              "      <td>36</td>\n",
              "      <td>65.0</td>\n",
              "      <td>161.5</td>\n",
              "      <td>24.921163</td>\n",
              "      <td>15</td>\n",
              "      <td>74</td>\n",
              "      <td>20</td>\n",
              "      <td>11.70</td>\n",
              "      <td>...</td>\n",
              "      <td>0</td>\n",
              "      <td>0.0</td>\n",
              "      <td>0</td>\n",
              "      <td>120</td>\n",
              "      <td>70</td>\n",
              "      <td>3</td>\n",
              "      <td>5</td>\n",
              "      <td>15.0</td>\n",
              "      <td>14.0</td>\n",
              "      <td>3.7</td>\n",
              "    </tr>\n",
              "    <tr>\n",
              "      <th>2</th>\n",
              "      <td>2</td>\n",
              "      <td>1</td>\n",
              "      <td>33</td>\n",
              "      <td>68.8</td>\n",
              "      <td>165.0</td>\n",
              "      <td>25.270891</td>\n",
              "      <td>11</td>\n",
              "      <td>72</td>\n",
              "      <td>18</td>\n",
              "      <td>11.80</td>\n",
              "      <td>...</td>\n",
              "      <td>1</td>\n",
              "      <td>1.0</td>\n",
              "      <td>0</td>\n",
              "      <td>120</td>\n",
              "      <td>80</td>\n",
              "      <td>13</td>\n",
              "      <td>15</td>\n",
              "      <td>18.0</td>\n",
              "      <td>20.0</td>\n",
              "      <td>10.0</td>\n",
              "    </tr>\n",
              "    <tr>\n",
              "      <th>3</th>\n",
              "      <td>3</td>\n",
              "      <td>0</td>\n",
              "      <td>37</td>\n",
              "      <td>65.0</td>\n",
              "      <td>148.0</td>\n",
              "      <td>29.674945</td>\n",
              "      <td>13</td>\n",
              "      <td>72</td>\n",
              "      <td>20</td>\n",
              "      <td>12.00</td>\n",
              "      <td>...</td>\n",
              "      <td>0</td>\n",
              "      <td>0.0</td>\n",
              "      <td>0</td>\n",
              "      <td>120</td>\n",
              "      <td>70</td>\n",
              "      <td>2</td>\n",
              "      <td>2</td>\n",
              "      <td>15.0</td>\n",
              "      <td>14.0</td>\n",
              "      <td>7.5</td>\n",
              "    </tr>\n",
              "    <tr>\n",
              "      <th>4</th>\n",
              "      <td>4</td>\n",
              "      <td>0</td>\n",
              "      <td>25</td>\n",
              "      <td>52.0</td>\n",
              "      <td>161.0</td>\n",
              "      <td>20.060954</td>\n",
              "      <td>11</td>\n",
              "      <td>72</td>\n",
              "      <td>18</td>\n",
              "      <td>10.00</td>\n",
              "      <td>...</td>\n",
              "      <td>0</td>\n",
              "      <td>0.0</td>\n",
              "      <td>0</td>\n",
              "      <td>120</td>\n",
              "      <td>80</td>\n",
              "      <td>3</td>\n",
              "      <td>4</td>\n",
              "      <td>16.0</td>\n",
              "      <td>14.0</td>\n",
              "      <td>7.0</td>\n",
              "    </tr>\n",
              "    <tr>\n",
              "      <th>5</th>\n",
              "      <td>5</td>\n",
              "      <td>0</td>\n",
              "      <td>36</td>\n",
              "      <td>74.1</td>\n",
              "      <td>165.0</td>\n",
              "      <td>27.217631</td>\n",
              "      <td>15</td>\n",
              "      <td>78</td>\n",
              "      <td>28</td>\n",
              "      <td>11.20</td>\n",
              "      <td>...</td>\n",
              "      <td>0</td>\n",
              "      <td>0.0</td>\n",
              "      <td>0</td>\n",
              "      <td>110</td>\n",
              "      <td>70</td>\n",
              "      <td>9</td>\n",
              "      <td>6</td>\n",
              "      <td>16.0</td>\n",
              "      <td>20.0</td>\n",
              "      <td>8.0</td>\n",
              "    </tr>\n",
              "  </tbody>\n",
              "</table>\n",
              "<p>6 rows × 43 columns</p>\n",
              "</div>"
            ],
            "text/plain": [
              "   Unnamed: 0  PCOS (Y/N)   Age (yrs)  Weight (Kg)  Height(Cm)         BMI  \\\n",
              "0           0           0          28         44.6        152.0  19.304017   \n",
              "1           1           0          36         65.0        161.5  24.921163   \n",
              "2           2           1          33         68.8        165.0  25.270891   \n",
              "3           3           0          37         65.0        148.0  29.674945   \n",
              "4           4           0          25         52.0        161.0  20.060954   \n",
              "5           5           0          36         74.1        165.0  27.217631   \n",
              "\n",
              "   Blood Group  Pulse rate(bpm)   RR (breaths/min)  Hb(g/dl)  ...  \\\n",
              "0           15                78                22     10.48  ...   \n",
              "1           15                74                20     11.70  ...   \n",
              "2           11                72                18     11.80  ...   \n",
              "3           13                72                20     12.00  ...   \n",
              "4           11                72                18     10.00  ...   \n",
              "5           15                78                28     11.20  ...   \n",
              "\n",
              "   Pimples(Y/N)  Fast food (Y/N)  Reg.Exercise(Y/N)  BP _Systolic (mmHg)  \\\n",
              "0             0              1.0                  0                  110   \n",
              "1             0              0.0                  0                  120   \n",
              "2             1              1.0                  0                  120   \n",
              "3             0              0.0                  0                  120   \n",
              "4             0              0.0                  0                  120   \n",
              "5             0              0.0                  0                  110   \n",
              "\n",
              "   BP _Diastolic (mmHg)  Follicle No. (L)  Follicle No. (R)  \\\n",
              "0                    80                 3                 3   \n",
              "1                    70                 3                 5   \n",
              "2                    80                13                15   \n",
              "3                    70                 2                 2   \n",
              "4                    80                 3                 4   \n",
              "5                    70                 9                 6   \n",
              "\n",
              "   Avg. F size (L) (mm)  Avg. F size (R) (mm)  Endometrium (mm)  \n",
              "0                  18.0                  18.0               8.5  \n",
              "1                  15.0                  14.0               3.7  \n",
              "2                  18.0                  20.0              10.0  \n",
              "3                  15.0                  14.0               7.5  \n",
              "4                  16.0                  14.0               7.0  \n",
              "5                  16.0                  20.0               8.0  \n",
              "\n",
              "[6 rows x 43 columns]"
            ]
          },
          "execution_count": 4,
          "metadata": {},
          "output_type": "execute_result"
        }
      ],
      "source": [
        "# show the first records using .head()\n",
        "g07.head(6)"
      ]
    },
    {
      "cell_type": "code",
      "execution_count": null,
      "metadata": {},
      "outputs": [],
      "source": []
    },
    {
      "cell_type": "markdown",
      "metadata": {
        "id": "XjvYTfHp4XT4"
      },
      "source": [
        "## Describe pandas Dataframe by using describe."
      ]
    },
    {
      "cell_type": "code",
      "execution_count": 5,
      "metadata": {
        "id": "W2USwR704XT4",
        "outputId": "d1799164-63e5-4358-b7c7-3d52fa036b13"
      },
      "outputs": [
        {
          "data": {
            "text/html": [
              "<div>\n",
              "<style scoped>\n",
              "    .dataframe tbody tr th:only-of-type {\n",
              "        vertical-align: middle;\n",
              "    }\n",
              "\n",
              "    .dataframe tbody tr th {\n",
              "        vertical-align: top;\n",
              "    }\n",
              "\n",
              "    .dataframe thead th {\n",
              "        text-align: right;\n",
              "    }\n",
              "</style>\n",
              "<table border=\"1\" class=\"dataframe\">\n",
              "  <thead>\n",
              "    <tr style=\"text-align: right;\">\n",
              "      <th></th>\n",
              "      <th>Unnamed: 0</th>\n",
              "      <th>PCOS (Y/N)</th>\n",
              "      <th>Age (yrs)</th>\n",
              "      <th>Weight (Kg)</th>\n",
              "      <th>Height(Cm)</th>\n",
              "      <th>BMI</th>\n",
              "      <th>Blood Group</th>\n",
              "      <th>Pulse rate(bpm)</th>\n",
              "      <th>RR (breaths/min)</th>\n",
              "      <th>Hb(g/dl)</th>\n",
              "      <th>...</th>\n",
              "      <th>Pimples(Y/N)</th>\n",
              "      <th>Fast food (Y/N)</th>\n",
              "      <th>Reg.Exercise(Y/N)</th>\n",
              "      <th>BP _Systolic (mmHg)</th>\n",
              "      <th>BP _Diastolic (mmHg)</th>\n",
              "      <th>Follicle No. (L)</th>\n",
              "      <th>Follicle No. (R)</th>\n",
              "      <th>Avg. F size (L) (mm)</th>\n",
              "      <th>Avg. F size (R) (mm)</th>\n",
              "      <th>Endometrium (mm)</th>\n",
              "    </tr>\n",
              "  </thead>\n",
              "  <tbody>\n",
              "    <tr>\n",
              "      <th>count</th>\n",
              "      <td>541.000000</td>\n",
              "      <td>541.000000</td>\n",
              "      <td>541.000000</td>\n",
              "      <td>541.000000</td>\n",
              "      <td>541.000000</td>\n",
              "      <td>541.000000</td>\n",
              "      <td>541.000000</td>\n",
              "      <td>541.000000</td>\n",
              "      <td>541.000000</td>\n",
              "      <td>541.000000</td>\n",
              "      <td>...</td>\n",
              "      <td>541.000000</td>\n",
              "      <td>540.000000</td>\n",
              "      <td>541.000000</td>\n",
              "      <td>541.000000</td>\n",
              "      <td>541.000000</td>\n",
              "      <td>541.000000</td>\n",
              "      <td>541.000000</td>\n",
              "      <td>541.000000</td>\n",
              "      <td>541.000000</td>\n",
              "      <td>541.000000</td>\n",
              "    </tr>\n",
              "    <tr>\n",
              "      <th>mean</th>\n",
              "      <td>270.000000</td>\n",
              "      <td>0.327172</td>\n",
              "      <td>31.430684</td>\n",
              "      <td>59.637153</td>\n",
              "      <td>156.484835</td>\n",
              "      <td>24.319360</td>\n",
              "      <td>13.802218</td>\n",
              "      <td>73.247689</td>\n",
              "      <td>19.243993</td>\n",
              "      <td>11.160037</td>\n",
              "      <td>...</td>\n",
              "      <td>0.489834</td>\n",
              "      <td>0.514815</td>\n",
              "      <td>0.247689</td>\n",
              "      <td>114.661738</td>\n",
              "      <td>76.927911</td>\n",
              "      <td>6.129390</td>\n",
              "      <td>6.641405</td>\n",
              "      <td>15.018115</td>\n",
              "      <td>15.451701</td>\n",
              "      <td>8.475915</td>\n",
              "    </tr>\n",
              "    <tr>\n",
              "      <th>std</th>\n",
              "      <td>156.317519</td>\n",
              "      <td>0.469615</td>\n",
              "      <td>5.411006</td>\n",
              "      <td>11.028287</td>\n",
              "      <td>6.033545</td>\n",
              "      <td>4.050810</td>\n",
              "      <td>1.840812</td>\n",
              "      <td>4.430285</td>\n",
              "      <td>1.688629</td>\n",
              "      <td>0.866904</td>\n",
              "      <td>...</td>\n",
              "      <td>0.500359</td>\n",
              "      <td>0.500244</td>\n",
              "      <td>0.432070</td>\n",
              "      <td>7.384556</td>\n",
              "      <td>5.574112</td>\n",
              "      <td>4.229294</td>\n",
              "      <td>4.436889</td>\n",
              "      <td>3.566839</td>\n",
              "      <td>3.318848</td>\n",
              "      <td>2.165381</td>\n",
              "    </tr>\n",
              "    <tr>\n",
              "      <th>min</th>\n",
              "      <td>0.000000</td>\n",
              "      <td>0.000000</td>\n",
              "      <td>20.000000</td>\n",
              "      <td>31.000000</td>\n",
              "      <td>137.000000</td>\n",
              "      <td>12.417882</td>\n",
              "      <td>11.000000</td>\n",
              "      <td>13.000000</td>\n",
              "      <td>16.000000</td>\n",
              "      <td>8.500000</td>\n",
              "      <td>...</td>\n",
              "      <td>0.000000</td>\n",
              "      <td>0.000000</td>\n",
              "      <td>0.000000</td>\n",
              "      <td>12.000000</td>\n",
              "      <td>8.000000</td>\n",
              "      <td>0.000000</td>\n",
              "      <td>0.000000</td>\n",
              "      <td>0.000000</td>\n",
              "      <td>0.000000</td>\n",
              "      <td>0.000000</td>\n",
              "    </tr>\n",
              "    <tr>\n",
              "      <th>25%</th>\n",
              "      <td>135.000000</td>\n",
              "      <td>0.000000</td>\n",
              "      <td>28.000000</td>\n",
              "      <td>52.000000</td>\n",
              "      <td>152.000000</td>\n",
              "      <td>21.707923</td>\n",
              "      <td>13.000000</td>\n",
              "      <td>72.000000</td>\n",
              "      <td>18.000000</td>\n",
              "      <td>10.500000</td>\n",
              "      <td>...</td>\n",
              "      <td>0.000000</td>\n",
              "      <td>0.000000</td>\n",
              "      <td>0.000000</td>\n",
              "      <td>110.000000</td>\n",
              "      <td>70.000000</td>\n",
              "      <td>3.000000</td>\n",
              "      <td>3.000000</td>\n",
              "      <td>13.000000</td>\n",
              "      <td>13.000000</td>\n",
              "      <td>7.000000</td>\n",
              "    </tr>\n",
              "    <tr>\n",
              "      <th>50%</th>\n",
              "      <td>270.000000</td>\n",
              "      <td>0.000000</td>\n",
              "      <td>31.000000</td>\n",
              "      <td>59.000000</td>\n",
              "      <td>156.000000</td>\n",
              "      <td>24.238227</td>\n",
              "      <td>14.000000</td>\n",
              "      <td>72.000000</td>\n",
              "      <td>18.000000</td>\n",
              "      <td>11.000000</td>\n",
              "      <td>...</td>\n",
              "      <td>0.000000</td>\n",
              "      <td>1.000000</td>\n",
              "      <td>0.000000</td>\n",
              "      <td>110.000000</td>\n",
              "      <td>80.000000</td>\n",
              "      <td>5.000000</td>\n",
              "      <td>6.000000</td>\n",
              "      <td>15.000000</td>\n",
              "      <td>16.000000</td>\n",
              "      <td>8.500000</td>\n",
              "    </tr>\n",
              "    <tr>\n",
              "      <th>75%</th>\n",
              "      <td>405.000000</td>\n",
              "      <td>1.000000</td>\n",
              "      <td>35.000000</td>\n",
              "      <td>65.000000</td>\n",
              "      <td>160.000000</td>\n",
              "      <td>26.638918</td>\n",
              "      <td>15.000000</td>\n",
              "      <td>74.000000</td>\n",
              "      <td>20.000000</td>\n",
              "      <td>11.700000</td>\n",
              "      <td>...</td>\n",
              "      <td>1.000000</td>\n",
              "      <td>1.000000</td>\n",
              "      <td>0.000000</td>\n",
              "      <td>120.000000</td>\n",
              "      <td>80.000000</td>\n",
              "      <td>9.000000</td>\n",
              "      <td>10.000000</td>\n",
              "      <td>18.000000</td>\n",
              "      <td>18.000000</td>\n",
              "      <td>9.800000</td>\n",
              "    </tr>\n",
              "    <tr>\n",
              "      <th>max</th>\n",
              "      <td>540.000000</td>\n",
              "      <td>1.000000</td>\n",
              "      <td>48.000000</td>\n",
              "      <td>108.000000</td>\n",
              "      <td>180.000000</td>\n",
              "      <td>38.900714</td>\n",
              "      <td>18.000000</td>\n",
              "      <td>82.000000</td>\n",
              "      <td>28.000000</td>\n",
              "      <td>14.800000</td>\n",
              "      <td>...</td>\n",
              "      <td>1.000000</td>\n",
              "      <td>1.000000</td>\n",
              "      <td>1.000000</td>\n",
              "      <td>140.000000</td>\n",
              "      <td>100.000000</td>\n",
              "      <td>22.000000</td>\n",
              "      <td>20.000000</td>\n",
              "      <td>24.000000</td>\n",
              "      <td>24.000000</td>\n",
              "      <td>18.000000</td>\n",
              "    </tr>\n",
              "  </tbody>\n",
              "</table>\n",
              "<p>8 rows × 43 columns</p>\n",
              "</div>"
            ],
            "text/plain": [
              "       Unnamed: 0  PCOS (Y/N)   Age (yrs)  Weight (Kg)  Height(Cm)   \\\n",
              "count  541.000000  541.000000  541.000000   541.000000   541.000000   \n",
              "mean   270.000000    0.327172   31.430684    59.637153   156.484835   \n",
              "std    156.317519    0.469615    5.411006    11.028287     6.033545   \n",
              "min      0.000000    0.000000   20.000000    31.000000   137.000000   \n",
              "25%    135.000000    0.000000   28.000000    52.000000   152.000000   \n",
              "50%    270.000000    0.000000   31.000000    59.000000   156.000000   \n",
              "75%    405.000000    1.000000   35.000000    65.000000   160.000000   \n",
              "max    540.000000    1.000000   48.000000   108.000000   180.000000   \n",
              "\n",
              "              BMI  Blood Group  Pulse rate(bpm)   RR (breaths/min)  \\\n",
              "count  541.000000   541.000000        541.000000        541.000000   \n",
              "mean    24.319360    13.802218         73.247689         19.243993   \n",
              "std      4.050810     1.840812          4.430285          1.688629   \n",
              "min     12.417882    11.000000         13.000000         16.000000   \n",
              "25%     21.707923    13.000000         72.000000         18.000000   \n",
              "50%     24.238227    14.000000         72.000000         18.000000   \n",
              "75%     26.638918    15.000000         74.000000         20.000000   \n",
              "max     38.900714    18.000000         82.000000         28.000000   \n",
              "\n",
              "         Hb(g/dl)  ...  Pimples(Y/N)  Fast food (Y/N)  Reg.Exercise(Y/N)  \\\n",
              "count  541.000000  ...    541.000000       540.000000         541.000000   \n",
              "mean    11.160037  ...      0.489834         0.514815           0.247689   \n",
              "std      0.866904  ...      0.500359         0.500244           0.432070   \n",
              "min      8.500000  ...      0.000000         0.000000           0.000000   \n",
              "25%     10.500000  ...      0.000000         0.000000           0.000000   \n",
              "50%     11.000000  ...      0.000000         1.000000           0.000000   \n",
              "75%     11.700000  ...      1.000000         1.000000           0.000000   \n",
              "max     14.800000  ...      1.000000         1.000000           1.000000   \n",
              "\n",
              "       BP _Systolic (mmHg)  BP _Diastolic (mmHg)  Follicle No. (L)  \\\n",
              "count           541.000000            541.000000        541.000000   \n",
              "mean            114.661738             76.927911          6.129390   \n",
              "std               7.384556              5.574112          4.229294   \n",
              "min              12.000000              8.000000          0.000000   \n",
              "25%             110.000000             70.000000          3.000000   \n",
              "50%             110.000000             80.000000          5.000000   \n",
              "75%             120.000000             80.000000          9.000000   \n",
              "max             140.000000            100.000000         22.000000   \n",
              "\n",
              "       Follicle No. (R)  Avg. F size (L) (mm)  Avg. F size (R) (mm)  \\\n",
              "count        541.000000            541.000000            541.000000   \n",
              "mean           6.641405             15.018115             15.451701   \n",
              "std            4.436889              3.566839              3.318848   \n",
              "min            0.000000              0.000000              0.000000   \n",
              "25%            3.000000             13.000000             13.000000   \n",
              "50%            6.000000             15.000000             16.000000   \n",
              "75%           10.000000             18.000000             18.000000   \n",
              "max           20.000000             24.000000             24.000000   \n",
              "\n",
              "       Endometrium (mm)  \n",
              "count        541.000000  \n",
              "mean           8.475915  \n",
              "std            2.165381  \n",
              "min            0.000000  \n",
              "25%            7.000000  \n",
              "50%            8.500000  \n",
              "75%            9.800000  \n",
              "max           18.000000  \n",
              "\n",
              "[8 rows x 43 columns]"
            ]
          },
          "execution_count": 5,
          "metadata": {},
          "output_type": "execute_result"
        }
      ],
      "source": [
        "# use .describe() to get the stastics of the dataset\n",
        "g07.describe()"
      ]
    },
    {
      "cell_type": "markdown",
      "metadata": {
        "id": "IxOx3m-g4XT4"
      },
      "source": [
        "## Show correlation heat plot of the entire dataset using matplotlib and sns, choose any color pallet (except blue) you like (experiment)."
      ]
    },
    {
      "cell_type": "code",
      "execution_count": 6,
      "metadata": {
        "id": "ghUfLwkX4XT4",
        "outputId": "28e8c351-7659-4365-8186-506782acbce1"
      },
      "outputs": [
        {
          "name": "stderr",
          "output_type": "stream",
          "text": [
            "Bad value in file PosixPath('/Users/adw10/.matplotlib/stylelib/lab-1.2.mplstyle'), line 7 (\"figure.facecolor: '#F8F3FA'\"): Key figure.facecolor: \"'\" does not look like a color arg\n"
          ]
        },
        {
          "data": {
            "text/plain": [
              "[Text(0.5, 0, 'Unnamed: 0'),\n",
              " Text(2.5, 0, ' Age (yrs)'),\n",
              " Text(4.5, 0, 'Height(Cm) '),\n",
              " Text(6.5, 0, 'Blood Group'),\n",
              " Text(8.5, 0, 'RR (breaths/min)'),\n",
              " Text(10.5, 0, 'Cycle(R/I)'),\n",
              " Text(12.5, 0, 'Marraige Status (Yrs)'),\n",
              " Text(14.5, 0, 'No. of aborptions'),\n",
              " Text(16.5, 0, 'II    beta-HCG(mIU/mL)'),\n",
              " Text(18.5, 0, 'LH(mIU/mL)'),\n",
              " Text(20.5, 0, 'Hip(inch)'),\n",
              " Text(22.5, 0, 'Waist:Hip Ratio'),\n",
              " Text(24.5, 0, 'AMH(ng/mL)'),\n",
              " Text(26.5, 0, 'Vit D3 (ng/mL)'),\n",
              " Text(28.5, 0, 'RBS(mg/dl)'),\n",
              " Text(30.5, 0, 'hair growth(Y/N)'),\n",
              " Text(32.5, 0, 'Hair loss(Y/N)'),\n",
              " Text(34.5, 0, 'Fast food (Y/N)'),\n",
              " Text(36.5, 0, 'BP _Systolic (mmHg)'),\n",
              " Text(38.5, 0, 'Follicle No. (L)'),\n",
              " Text(40.5, 0, 'Avg. F size (L) (mm)'),\n",
              " Text(42.5, 0, 'Endometrium (mm)')]"
            ]
          },
          "execution_count": 6,
          "metadata": {},
          "output_type": "execute_result"
        },
        {
          "data": {
            "image/png": "[encoded data removed]",
            "text/plain": [
              "<Figure size 432x288 with 2 Axes>"
            ]
          },
          "metadata": {
            "needs_background": "light"
          },
          "output_type": "display_data"
        }
      ],
      "source": [
        "from matplotlib import rcParams\n",
        "import seaborn as sns\n",
        "\n",
        "# change the default setting of the figure using rcParams\n",
        "rcParams[\"figure.figsize\"] = 12, 12\n",
        "rcParams[\"figure.dpi\"] = 100\n",
        "\n",
        "# calculate the correlation of the variables\n",
        "corr = g07.corr()\n",
        "\n",
        "# create the heatmap\n",
        "ax = sns.heatmap(\n",
        "    corr,\n",
        "    vmin=-1,\n",
        "    vmax=1,\n",
        "    center=0,\n",
        "    cmap=sns.diverging_palette(145, 300, s=60, as_cmap=True),\n",
        "    square=True,\n",
        ")\n",
        "# add tick labels\n",
        "ax.set_xticklabels(ax.get_xticklabels(), rotation=45, horizontalalignment=\"right\")\n"
      ]
    },
    {
      "cell_type": "markdown",
      "metadata": {
        "id": "N-XoeGEz4XT5"
      },
      "source": [
        "## Show the Scatterplot matrix for the dataframe (avoid matplotlib and sns for this assignment). You can use Scatterplot Matrix Plotly. Use the code for the second image that shows different colors for classes. In this case, you will get two colors since we have two classes. Also, experiment with visual aspects of the image (not a lot, but an excellent visual will always leave a better impression. you can change color, thickness, font, font size, font color, etc.). No need to explain the plots but do save them in a pdf/svg/png with either static export function or html export function from plotly Interactive HTML Export Plotly."
      ]
    },
    {
      "cell_type": "code",
      "execution_count": 11,
      "metadata": {
        "id": "dW-3pmG34XT5"
      },
      "outputs": [],
      "source": [
        "import plotly.express as px\n",
        "import pandas as pd\n",
        "\n",
        "# define the color labels\n",
        "colors = {0: '0', 1: '1'}\n",
        "# Create a scatterplot matrix\n",
        "fig = px.scatter_matrix(g07,\n",
        "                        dimensions=g07.columns[:-1],  # Exclude the 'Class' column\n",
        "                        color_discrete_sequence=[\"#93C572\", \"purple\"],  # Set the color scale\n",
        "                        title=\"Scatterplot Matrix with Color Palette\",\n",
        "                        labels={col: col for col in g07.columns[:-1]})\n",
        "\n",
        "# update the layout to hide diagonal plots and make the marker smaller\n",
        "fig.update_traces(diagonal_visible=False,marker=dict(size=3))\n",
        "\n",
        "# change the figure size to make it clearer\n",
        "fig.update_layout(\n",
        "    width=2000,\n",
        "    height=2000,\n",
        ")\n",
        "# save the figure as an interactive html\n",
        "fig.write_html(\"scatter_matrix.html\")"
      ]
    },
    {
      "cell_type": "markdown",
      "metadata": {
        "id": "V0qsz-bE4XT5"
      },
      "source": [
        "## Split the dataset into the Training set and Test set. Choose your preferred split and justify the rationale."
      ]
    },
    {
      "cell_type": "code",
      "execution_count": 12,
      "metadata": {
        "id": "XsRxlcl04XT5"
      },
      "outputs": [],
      "source": [
        "from sklearn.model_selection import train_test_split\n",
        "\n",
        "# remove the time variable that is irrelevant to our problem\n",
        "g07 = g07.iloc[:, 1:]\n",
        "\n",
        "# initialize the independent variable X and dependent variable Y\n",
        "X_g07 = g07.loc[:, g07.columns != \"PCOS (Y/N)\"].to_numpy()\n",
        "y_g07 = g07.iloc[:, -1:].to_numpy()\n",
        "\n",
        "# split the dataset into training and testing set (60/40)\n",
        "X_train_g07, X_test_g07, y_train_g07, y_test_g07 = train_test_split(\n",
        "    X_g07, y_g07, test_size=0.40, random_state=0\n",
        ")"
      ]
    },
    {
      "cell_type": "code",
      "execution_count": 13,
      "metadata": {},
      "outputs": [
        {
          "ename": "ValueError",
          "evalue": "Unknown label type: 'continuous'",
          "output_type": "error",
          "traceback": [
            "\u001b[0;31m---------------------------------------------------------------------------\u001b[0m",
            "\u001b[0;31mValueError\u001b[0m                                Traceback (most recent call last)",
            "\u001b[1;32m/Users/adw10/Desktop/Georgetown/2023 fall/6700/project/Assignment_02_G07_colab.ipynb Cell 18\u001b[0m in \u001b[0;36m<cell line: 2>\u001b[0;34m()\u001b[0m\n\u001b[1;32m      <a href='vscode-notebook-cell:/Users/adw10/Desktop/Georgetown/2023%20fall/6700/project/Assignment_02_G07_colab.ipynb#ch0000029?line=0'>1</a>\u001b[0m smote \u001b[39m=\u001b[39m SMOTE(sampling_strategy\u001b[39m=\u001b[39m\u001b[39m'\u001b[39m\u001b[39mauto\u001b[39m\u001b[39m'\u001b[39m, random_state\u001b[39m=\u001b[39m\u001b[39m42\u001b[39m)  \u001b[39m# You can specify different sampling strategies or adjust other parameters\u001b[39;00m\n\u001b[0;32m----> <a href='vscode-notebook-cell:/Users/adw10/Desktop/Georgetown/2023%20fall/6700/project/Assignment_02_G07_colab.ipynb#ch0000029?line=1'>2</a>\u001b[0m X_train_resampled, y_train_resampled \u001b[39m=\u001b[39m smote\u001b[39m.\u001b[39;49mfit_resample(X_train_g07,y_train_g07)\n",
            "File \u001b[0;32m~/opt/anaconda3/lib/python3.9/site-packages/imblearn/base.py:208\u001b[0m, in \u001b[0;36mBaseSampler.fit_resample\u001b[0;34m(self, X, y)\u001b[0m\n\u001b[1;32m    187\u001b[0m \u001b[39m\u001b[39m\u001b[39m\"\"\"Resample the dataset.\u001b[39;00m\n\u001b[1;32m    188\u001b[0m \n\u001b[1;32m    189\u001b[0m \u001b[39mParameters\u001b[39;00m\n\u001b[0;32m   (...)\u001b[0m\n\u001b[1;32m    205\u001b[0m \u001b[39m    The corresponding label of `X_resampled`.\u001b[39;00m\n\u001b[1;32m    206\u001b[0m \u001b[39m\"\"\"\u001b[39;00m\n\u001b[1;32m    207\u001b[0m \u001b[39mself\u001b[39m\u001b[39m.\u001b[39m_validate_params()\n\u001b[0;32m--> 208\u001b[0m \u001b[39mreturn\u001b[39;00m \u001b[39msuper\u001b[39;49m()\u001b[39m.\u001b[39;49mfit_resample(X, y)\n",
            "File \u001b[0;32m~/opt/anaconda3/lib/python3.9/site-packages/imblearn/base.py:104\u001b[0m, in \u001b[0;36mSamplerMixin.fit_resample\u001b[0;34m(self, X, y)\u001b[0m\n\u001b[1;32m     83\u001b[0m \u001b[39mdef\u001b[39;00m \u001b[39mfit_resample\u001b[39m(\u001b[39mself\u001b[39m, X, y):\n\u001b[1;32m     84\u001b[0m \u001b[39m    \u001b[39m\u001b[39m\"\"\"Resample the dataset.\u001b[39;00m\n\u001b[1;32m     85\u001b[0m \n\u001b[1;32m     86\u001b[0m \u001b[39m    Parameters\u001b[39;00m\n\u001b[0;32m   (...)\u001b[0m\n\u001b[1;32m    102\u001b[0m \u001b[39m        The corresponding label of `X_resampled`.\u001b[39;00m\n\u001b[1;32m    103\u001b[0m \u001b[39m    \"\"\"\u001b[39;00m\n\u001b[0;32m--> 104\u001b[0m     check_classification_targets(y)\n\u001b[1;32m    105\u001b[0m     arrays_transformer \u001b[39m=\u001b[39m ArraysTransformer(X, y)\n\u001b[1;32m    106\u001b[0m     X, y, binarize_y \u001b[39m=\u001b[39m \u001b[39mself\u001b[39m\u001b[39m.\u001b[39m_check_X_y(X, y)\n",
            "File \u001b[0;32m~/opt/anaconda3/lib/python3.9/site-packages/sklearn/utils/multiclass.py:197\u001b[0m, in \u001b[0;36mcheck_classification_targets\u001b[0;34m(y)\u001b[0m\n\u001b[1;32m    189\u001b[0m y_type \u001b[39m=\u001b[39m type_of_target(y)\n\u001b[1;32m    190\u001b[0m \u001b[39mif\u001b[39;00m y_type \u001b[39mnot\u001b[39;00m \u001b[39min\u001b[39;00m [\n\u001b[1;32m    191\u001b[0m     \u001b[39m\"\u001b[39m\u001b[39mbinary\u001b[39m\u001b[39m\"\u001b[39m,\n\u001b[1;32m    192\u001b[0m     \u001b[39m\"\u001b[39m\u001b[39mmulticlass\u001b[39m\u001b[39m\"\u001b[39m,\n\u001b[0;32m   (...)\u001b[0m\n\u001b[1;32m    195\u001b[0m     \u001b[39m\"\u001b[39m\u001b[39mmultilabel-sequences\u001b[39m\u001b[39m\"\u001b[39m,\n\u001b[1;32m    196\u001b[0m ]:\n\u001b[0;32m--> 197\u001b[0m     \u001b[39mraise\u001b[39;00m \u001b[39mValueError\u001b[39;00m(\u001b[39m\"\u001b[39m\u001b[39mUnknown label type: \u001b[39m\u001b[39m%r\u001b[39;00m\u001b[39m\"\u001b[39m \u001b[39m%\u001b[39m y_type)\n",
            "\u001b[0;31mValueError\u001b[0m: Unknown label type: 'continuous'"
          ]
        }
      ],
      "source": [
        "smote = SMOTE(sampling_strategy='auto', random_state=42)  # You can specify different sampling strategies or adjust other parameters\n",
        "X_train_resampled, y_train_resampled = smote.fit_resample(X_train_g07,y_train_g07)"
      ]
    },
    {
      "cell_type": "code",
      "execution_count": null,
      "metadata": {},
      "outputs": [],
      "source": []
    },
    {
      "cell_type": "markdown",
      "metadata": {
        "id": "JERM3Uo74XT6"
      },
      "source": [
        "Answer: Here I used a 60-40 training-test split because in this way, we could get sufficient training data for the model to learn the pattern, and we also have adequate testing data to evaluate the model performance."
      ]
    },
    {
      "cell_type": "markdown",
      "metadata": {
        "id": "5XtqMQfd4XT6"
      },
      "source": [
        "## Perform classification routine by using LogisticRegression(), KNeighborsClassifier(), DecisionTreeClassifier(), SVC(), GaussianNB(), RandomForestClassifier(), BaggingClassifier(), GradientBoostingClassifier(), XGboostclassifier. Output the accuracy box plot as we have seen in the class (make sure to change regressmod df to classmod. And use an appropriate metric for classification evaluation, for example, accuracy, precision,recall etc). Remember to use the object oriented approach and develop a function (def...), this will be very helpful for the next assignment."
      ]
    },
    {
      "cell_type": "code",
      "execution_count": 12,
      "metadata": {
        "id": "57iVe3v_4XT6"
      },
      "outputs": [],
      "source": [
        "from sklearn.model_selection import cross_val_score, RepeatedKFold\n",
        "from sklearn.linear_model import LogisticRegression\n",
        "from sklearn.neighbors import KNeighborsClassifier\n",
        "from sklearn.tree import DecisionTreeClassifier\n",
        "from sklearn.svm import SVC\n",
        "from sklearn.naive_bayes import GaussianNB\n",
        "from sklearn.ensemble import GradientBoostingClassifier, BaggingClassifier, RandomForestClassifier\n",
        "from xgboost import XGBClassifier\n",
        "\n",
        "# define a function for base models we're going to train\n",
        "def base_models():\n",
        "  models = dict()\n",
        "  models[\"lg\"] = LogisticRegression()\n",
        "  models[\"KNN\"] = KNeighborsClassifier(n_neighbors=3)\n",
        "  models[\"Tree\"] = DecisionTreeClassifier()\n",
        "  models[\"svc\"] = SVC()\n",
        "  models[\"NB\"] = GaussianNB()\n",
        "  models[\"Random Forest\"] = RandomForestClassifier()\n",
        "  models[\"Bagging\"] = BaggingClassifier()\n",
        "  models[\"GBM\"] = GradientBoostingClassifier()\n",
        "  models[\"XGB\"] = XGBClassifier()\n",
        "  return models\n",
        "\n",
        "\n",
        "# define a function to evaluate the list of models using cross validation\n",
        "def eval_models(model):\n",
        "  # perform ten fold cross validation\n",
        "  cv = RepeatedKFold(n_splits=5, n_repeats=2, random_state=1)\n",
        "  # use accuracy to evaluate the performance of our classification models\n",
        "  scores = cross_val_score(model, X_train_g07, y_train_g07, scoring='accuracy', cv=cv, n_jobs=-1,\n",
        "                            error_score='raise')\n",
        "  return scores"
      ]
    },
    {
      "cell_type": "code",
      "execution_count": null,
      "metadata": {
        "colab": {
          "base_uri": "https://localhost:8080/"
        },
        "id": "NHm9kAi-4XT7",
        "outputId": "8128ef32-9667-4f06-a238-f2e17dbf5967"
      },
      "outputs": [
        {
          "name": "stdout",
          "output_type": "stream",
          "text": [
            ">lg 0.999 (0.000)\n",
            ">KNN 0.999 (0.000)\n",
            ">Tree 0.999 (0.000)\n",
            ">svc 0.999 (0.000)\n",
            ">NB 0.978 (0.001)\n",
            ">Random Forest 1.000 (0.000)\n",
            ">Bagging 0.999 (0.000)\n",
            ">GBM 0.999 (0.000)\n",
            ">XGB 1.000 (0.000)\n",
            "Drive already mounted at /content/drive; to attempt to forcibly remount, call drive.mount(\"/content/drive\", force_remount=True).\n"
          ]
        }
      ],
      "source": [
        "import numpy as np\n",
        "models_g07 = base_models()\n",
        "\n",
        "# set lists for the results and model names\n",
        "results_g07, names_g07 = list(), list()\n",
        "\n",
        "for name, model in models_g07.items():\n",
        "  scores = eval_models(model)\n",
        "  results_g07.append(scores)\n",
        "  names_g07.append(name)\n",
        "  print('>%s %.3f (%.3f)' % (name, scores.mean(), scores.std()))\n",
        "\n",
        "# specify our classifier dataframe and the name of the classifiers\n",
        "classifier_g07 = pd.DataFrame(np.transpose(results_g07), columns = [\"lg\",\"KNN\",\"Tree\",\"svc\",\"NB\",\"Random Forest\",\"Bagging\",\"GBM\", \"XGB\"])\n",
        "classifier_g07 = pd.melt(classifier_g07.reset_index(), id_vars='index',value_vars=[\"lg\",\"KNN\",\"Tree\",\"svc\",\"NB\",\"Random Forest\",\"Bagging\",\"GBM\", \"XGB\"])\n",
        "\n",
        "# plot the result in box plot\n",
        "import plotly.express as px\n",
        "from plotly.subplots import make_subplots\n",
        "import plotly.graph_objs as go\n",
        "\n",
        "fig = px.box(classifier_g07, x=\"variable\", y=\"value\",color=\"variable\",points='all',\n",
        "labels={\"variable\": \"Machine Learning Model\",\n",
        "        \"value\": \" Accuracy\"\n",
        "        },title=\"Model Performance\")\n",
        "\n",
        "# save the figure as an interactive html\n",
        "from google.colab import drive\n",
        "\n",
        "drive.mount('/content/drive')\n",
        "\n",
        "# Write a sample file to Google Drive\n",
        "fig.write_html(\"/content/drive/My Drive/assignment_output/boxplot_for_all_models.html\")"
      ]
    },
    {
      "cell_type": "markdown",
      "metadata": {
        "id": "rCLTLbQM4XT7"
      },
      "source": [
        "## Select the best classifier for level o classifier. Use logistic regression as a second level classifier. Similar to 5 generate the box plot and show the accuracy of each algorithm as well as stacked classifier. Also show the metrices of the above algorithms ."
      ]
    },
    {
      "cell_type": "code",
      "execution_count": 20,
      "metadata": {
        "colab": {
          "base_uri": "https://localhost:8080/"
        },
        "id": "bR5OksJd4XT7",
        "outputId": "0aab0e4b-e716-4f7d-919e-e7fc33a3bf27"
      },
      "outputs": [
        {
          "name": "stdout",
          "output_type": "stream",
          "text": [
            ">lg 0.999 (0.000)\n",
            ">XGB 1.000 (0.000)\n",
            ">Stacked Model 1.000 (0.000)\n",
            "Drive already mounted at /content/drive; to attempt to forcibly remount, call drive.mount(\"/content/drive\", force_remount=True).\n"
          ]
        }
      ],
      "source": [
        "# the best model is XGBoosting classifier\n",
        "from sklearn.ensemble import StackingClassifier\n",
        "def get_stacking():\n",
        "\t# define the base models\n",
        "  level0 = list()\n",
        "  level0.append(('XGB', XGBClassifier()))\n",
        "\n",
        "\t# define second level model\n",
        "  level1 = LogisticRegression()\n",
        "\n",
        "\t# define the stacking ensemble\n",
        "  model = StackingClassifier(estimators=level0, final_estimator=level1, cv=5)\n",
        "  return model\n",
        "\n",
        "\n",
        "# define a function for base models we're going to train\n",
        "def base_models():\n",
        "  models = dict()\n",
        "  models[\"lg\"] = LogisticRegression()\n",
        "  models[\"XGB\"] = XGBClassifier()\n",
        "  models[\"Stacked Model\"] = get_stacking()\n",
        "  return models\n",
        "\n",
        "\n",
        "# define a function to evaluate the list of models using cross validation\n",
        "def eval_models(model):\n",
        "  # perform ten fold cross validation\n",
        "  cv = RepeatedKFold(n_splits=5, n_repeats=2, random_state=1)\n",
        "  # use accuracy to evaluate the performance of our classification models\n",
        "  scores = cross_val_score(model, X_train_g07, y_train_g07, scoring='accuracy', cv=cv, n_jobs=-1,\n",
        "                            error_score='raise')\n",
        "  return scores\n",
        "\n",
        "models_g07 = base_models()\n",
        "\n",
        "# set lists for the results and model names\n",
        "results_g07, names_g07 = list(), list()\n",
        "\n",
        "for name, model in models_g07.items():\n",
        "  scores = eval_models(model)\n",
        "  results_g07.append(scores)\n",
        "  names_g07.append(name)\n",
        "  print('>%s %.3f (%.3f)' % (name, scores.mean(), scores.std()))\n",
        "\n",
        "\n",
        "classifier_g07 = pd.DataFrame(np.transpose(results_g07), columns = [\"lg\", \"XGB\",\"stacked model\"])\n",
        "classifier_g07 = pd.melt(classifier_g07.reset_index(), id_vars='index',value_vars=[\"lg\", \"XGB\",\"stacked model\"])\n",
        "\n",
        "\n",
        "import plotly.express as px\n",
        "from plotly.subplots import make_subplots\n",
        "import plotly.graph_objs as go\n",
        "\n",
        "fig = px.box(classifier_g07, x=\"variable\", y=\"value\",color=\"variable\",points='all',\n",
        "labels={\"variable\": \"Machine Learning Model\",\n",
        "        \"value\": \" Accuracy\"\n",
        "        },title=\"Model Performance\")\n",
        "\n",
        "# save the figure as an interactive html\n",
        "from google.colab import drive\n",
        "\n",
        "drive.mount('/content/drive')\n",
        "\n",
        "# Write a sample file to Google Drive\n",
        "fig.write_html(\"/content/drive/My Drive/assignment_output/boxplot_for_stack_models.html\")\n"
      ]
    },
    {
      "cell_type": "markdown",
      "metadata": {
        "id": "ZA6RiGqbVkzn"
      },
      "source": [
        "## Export the Pickle model and import it back. Use the imported model to predict the y_test from x_test and report the confusion matrix"
      ]
    },
    {
      "cell_type": "code",
      "execution_count": 21,
      "metadata": {
        "colab": {
          "base_uri": "https://localhost:8080/"
        },
        "id": "MeGSr29DVqNv",
        "outputId": "4ea6f7c5-b102-4dfd-e0ae-edfe4c7d7066"
      },
      "outputs": [
        {
          "name": "stdout",
          "output_type": "stream",
          "text": [
            "Test score: 99.95 %\n",
            "[[113715      9]\n",
            " [    46    153]]\n"
          ]
        }
      ],
      "source": [
        "import pickle\n",
        "# reshape the y array to avoid warning\n",
        "y_train_g07 = y_train_g07.reshape(len(y_train_g07),)\n",
        "y_test_g07 = y_test_g07.reshape(len(y_test_g07),)\n",
        "\n",
        "level0 = list()\n",
        "level0.append(('XGB', XGBClassifier()))\n",
        "\n",
        "# define second level model\n",
        "level1 = LogisticRegression()\n",
        "\n",
        "# define the stacking ensemble\n",
        "model = StackingClassifier(estimators=level0, final_estimator=level1, cv=5)\n",
        "model.fit(X_train_g07, y_train_g07)\n",
        "\n",
        "# save to file in the current working directory\n",
        "pkl_filename_g07 = \"AssignmentPickle.pkl\"\n",
        "with open(pkl_filename_g07, 'wb') as file:\n",
        "    pickle.dump(model, file)\n",
        "\n",
        "# load from file\n",
        "with open(pkl_filename_g07, 'rb') as file:\n",
        "    pickle_model = pickle.load(file)\n",
        "\n",
        "# calculate the score and the prediction\n",
        "score = pickle_model.score(X_test_g07, y_test_g07)\n",
        "print(\"Test score: {0:.2f} %\".format(100 * score))\n",
        "y_pred_g07 = pickle_model.predict(X_test_g07)\n",
        "\n",
        "# report the confusion matrix\n",
        "from sklearn.metrics import confusion_matrix\n",
        "cm = confusion_matrix(y_test_g07, y_pred_g07)\n",
        "print(cm)"
      ]
    },
    {
      "cell_type": "markdown",
      "metadata": {
        "id": "rYlesaaoZErV"
      },
      "source": [
        "Show both text and visual confusion Matrices using scikit learn and matplotlib and\n",
        "explain what the graph tells you and what you did"
      ]
    },
    {
      "cell_type": "code",
      "execution_count": 22,
      "metadata": {
        "colab": {
          "base_uri": "https://localhost:8080/",
          "height": 518
        },
        "id": "6BKABguibG-7",
        "outputId": "ef0b58e2-8259-461e-e430-e144cd4b5515"
      },
      "outputs": [
        {
          "name": "stdout",
          "output_type": "stream",
          "text": [
            "[[113715      9]\n",
            " [    46    153]]\n"
          ]
        },
        {
          "data": {
            "text/plain": [
              "<sklearn.metrics._plot.confusion_matrix.ConfusionMatrixDisplay at 0x7d2bc94514e0>"
            ]
          },
          "execution_count": 22,
          "metadata": {},
          "output_type": "execute_result"
        },
        {
          "data": {
            "text/plain": [
              "<Figure size 187.5x187.5 with 0 Axes>"
            ]
          },
          "metadata": {},
          "output_type": "display_data"
        },
        {
          "data": {
            "image/png": "[encoded data removed]",
            "text/plain": [
              "<Figure size 640x480 with 2 Axes>"
            ]
          },
          "metadata": {},
          "output_type": "display_data"
        }
      ],
      "source": [
        "from sklearn.metrics import ConfusionMatrixDisplay\n",
        "import matplotlib.pyplot as plt\n",
        "\n",
        "# set the canvas for the confusion matrix with size = 2.5x2.5 and dpi = 75\n",
        "plt.figure(figsize=(2.5, 2.5), dpi=75)\n",
        "\n",
        "# use confusion_matrix from sklearn.metrics to calculate the confusion matrix for the test set\n",
        "print(cm)\n",
        "\n",
        "# use ConfusionMatrixDisplay to visualize the confusion matrix with the model, the input matrix, and the true value\n",
        "ConfusionMatrixDisplay.from_estimator(model, X_test_g07, y_test_g07)\n"
      ]
    },
    {
      "cell_type": "markdown",
      "metadata": {
        "id": "zZVWTl3sbaxb"
      },
      "source": [
        "Answer: The command first sets the canvas for the confusion matrix with size = 2.5x2.5 and dpi = 75. Then it uses confusion_matrix from sklearn.metrics to calculate the confusion matrix for the test set. ConfusionMatrixDisplay command is also used to visualize the confusion matrix with the model, the input matrix, and the true value.\n",
        "\n",
        "The graph shows that almost all samples (113715 out of 113724) from type 0 are correctly classified. However, almost 1/4 (46 out of 199) of the samples from type 1 are classified wrongly. This might be due to the imbalence nature of our data set with type 0 many times as much as type 1. Therefore, the classifier tends to classify a sample to type 0 instead of type 1."
      ]
    }
  ],
  "metadata": {
    "colab": {
      "provenance": []
    },
    "kernelspec": {
      "display_name": "Python 3.9.12 ('base')",
      "language": "python",
      "name": "python3"
    },
    "language_info": {
      "codemirror_mode": {
        "name": "ipython",
        "version": 3
      },
      "file_extension": ".py",
      "mimetype": "text/x-python",
      "name": "python",
      "nbconvert_exporter": "python",
      "pygments_lexer": "ipython3",
      "version": "3.9.12"
    },
    "orig_nbformat": 4,
    "vscode": {
      "interpreter": {
        "hash": "9880b4128bd382861afa666f113ba31dc6171dcd6c25e5016f48e83331f8b455"
      }
    }
  },
  "nbformat": 4,
  "nbformat_minor": 0
}
